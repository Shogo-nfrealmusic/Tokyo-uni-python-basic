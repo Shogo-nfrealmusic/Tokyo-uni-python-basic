{
 "cells": [
  {
   "cell_type": "code",
   "execution_count": 1,
   "id": "34fa0504",
   "metadata": {},
   "outputs": [
    {
     "data": {
      "text/plain": [
       "5"
      ]
     },
     "execution_count": 1,
     "metadata": {},
     "output_type": "execute_result"
    }
   ],
   "source": [
    "7-2"
   ]
  },
  {
   "cell_type": "code",
   "execution_count": 2,
   "id": "0ad7b4b4",
   "metadata": {},
   "outputs": [
    {
     "data": {
      "text/plain": [
       "7.0"
      ]
     },
     "execution_count": 2,
     "metadata": {},
     "output_type": "execute_result"
    }
   ],
   "source": [
    "7/1"
   ]
  },
  {
   "cell_type": "code",
   "execution_count": 3,
   "id": "36bbedc9",
   "metadata": {},
   "outputs": [
    {
     "data": {
      "text/plain": [
       "7"
      ]
     },
     "execution_count": 3,
     "metadata": {},
     "output_type": "execute_result"
    }
   ],
   "source": [
    "7//1\n"
   ]
  },
  {
   "cell_type": "code",
   "execution_count": 4,
   "id": "60015952",
   "metadata": {},
   "outputs": [
    {
     "data": {
      "text/plain": [
       "49"
      ]
     },
     "execution_count": 4,
     "metadata": {},
     "output_type": "execute_result"
    }
   ],
   "source": [
    "7**2"
   ]
  },
  {
   "cell_type": "code",
   "execution_count": 5,
   "id": "91ed3b29",
   "metadata": {},
   "outputs": [
    {
     "data": {
      "text/plain": [
       "49.0"
      ]
     },
     "execution_count": 5,
     "metadata": {},
     "output_type": "execute_result"
    }
   ],
   "source": [
    "7**2.0"
   ]
  },
  {
   "cell_type": "code",
   "execution_count": 6,
   "id": "fcafbdf2",
   "metadata": {},
   "outputs": [
    {
     "ename": "NameError",
     "evalue": "name 'init' is not defined",
     "output_type": "error",
     "traceback": [
      "\u001b[0;31m---------------------------------------------------------------------------\u001b[0m",
      "\u001b[0;31mNameError\u001b[0m                                 Traceback (most recent call last)",
      "Cell \u001b[0;32mIn[6], line 1\u001b[0m\n\u001b[0;32m----> 1\u001b[0m init(\u001b[38;5;241m2.8\u001b[39m)\n",
      "\u001b[0;31mNameError\u001b[0m: name 'init' is not defined"
     ]
    }
   ],
   "source": [
    "init(2.8)"
   ]
  },
  {
   "cell_type": "code",
   "execution_count": 7,
   "id": "25cb2dbe",
   "metadata": {},
   "outputs": [
    {
     "data": {
      "text/plain": [
       "2"
      ]
     },
     "execution_count": 7,
     "metadata": {},
     "output_type": "execute_result"
    }
   ],
   "source": [
    "int(2.8)"
   ]
  },
  {
   "cell_type": "code",
   "execution_count": 8,
   "id": "c3b209cb",
   "metadata": {},
   "outputs": [
    {
     "data": {
      "text/plain": [
       "1.5"
      ]
     },
     "execution_count": 8,
     "metadata": {},
     "output_type": "execute_result"
    }
   ],
   "source": [
    "18/6/2"
   ]
  },
  {
   "cell_type": "code",
   "execution_count": 9,
   "id": "4e42fed2",
   "metadata": {},
   "outputs": [
    {
     "data": {
      "text/plain": [
       "49"
      ]
     },
     "execution_count": 9,
     "metadata": {},
     "output_type": "execute_result"
    }
   ],
   "source": [
    "7 **2"
   ]
  },
  {
   "cell_type": "code",
   "execution_count": 10,
   "id": "8a7f0e4b",
   "metadata": {},
   "outputs": [
    {
     "data": {
      "text/plain": [
       "3.3333333333333335"
      ]
     },
     "execution_count": 10,
     "metadata": {},
     "output_type": "execute_result"
    }
   ],
   "source": [
    "10/3"
   ]
  },
  {
   "cell_type": "code",
   "execution_count": 11,
   "id": "c4b15919",
   "metadata": {},
   "outputs": [
    {
     "data": {
      "text/plain": [
       "1.4142135623730951"
      ]
     },
     "execution_count": 11,
     "metadata": {},
     "output_type": "execute_result"
    }
   ],
   "source": [
    "import math\n",
    "math.sqrt(2)"
   ]
  },
  {
   "cell_type": "code",
   "execution_count": 12,
   "id": "374a1683",
   "metadata": {},
   "outputs": [
    {
     "data": {
      "text/plain": [
       "3.141592653589793"
      ]
     },
     "execution_count": 12,
     "metadata": {},
     "output_type": "execute_result"
    }
   ],
   "source": [
    "math.pi"
   ]
  },
  {
   "cell_type": "code",
   "execution_count": 14,
   "id": "6db4e39a",
   "metadata": {},
   "outputs": [
    {
     "data": {
      "text/plain": [
       "1.618033988749895"
      ]
     },
     "execution_count": 14,
     "metadata": {},
     "output_type": "execute_result"
    }
   ],
   "source": [
    "(math.sqrt(5) + 1) /2"
   ]
  },
  {
   "cell_type": "code",
   "execution_count": 15,
   "id": "a58869fe",
   "metadata": {},
   "outputs": [],
   "source": [
    "h = 188"
   ]
  },
  {
   "cell_type": "code",
   "execution_count": 16,
   "id": "9e78a486",
   "metadata": {},
   "outputs": [
    {
     "data": {
      "text/plain": [
       "188"
      ]
     },
     "execution_count": 16,
     "metadata": {},
     "output_type": "execute_result"
    }
   ],
   "source": [
    "h"
   ]
  },
  {
   "cell_type": "code",
   "execution_count": 17,
   "id": "77f22c9b",
   "metadata": {},
   "outputs": [],
   "source": [
    "w = 104"
   ]
  },
  {
   "cell_type": "code",
   "execution_count": 18,
   "id": "c046db7f",
   "metadata": {},
   "outputs": [
    {
     "data": {
      "text/plain": [
       "29.425079221367138"
      ]
     },
     "execution_count": 18,
     "metadata": {},
     "output_type": "execute_result"
    }
   ],
   "source": [
    "w / (h/100) ** 2"
   ]
  },
  {
   "cell_type": "code",
   "execution_count": 19,
   "id": "315c15a8",
   "metadata": {},
   "outputs": [
    {
     "data": {
      "text/plain": [
       "94"
      ]
     },
     "execution_count": 19,
     "metadata": {},
     "output_type": "execute_result"
    }
   ],
   "source": [
    "w -= 10\n",
    "w"
   ]
  },
  {
   "cell_type": "code",
   "execution_count": 20,
   "id": "245f0f7b",
   "metadata": {},
   "outputs": [
    {
     "data": {
      "text/plain": [
       "22.22222222222222"
      ]
     },
     "execution_count": 20,
     "metadata": {},
     "output_type": "execute_result"
    }
   ],
   "source": [
    "def mbi(height, weight):\n",
    "    return weight / (height/100) ** 2\n",
    "mbi(180, 72)"
   ]
  },
  {
   "cell_type": "code",
   "execution_count": 21,
   "id": "010218aa",
   "metadata": {},
   "outputs": [
    {
     "data": {
      "text/plain": [
       "25.652173913043477"
      ]
     },
     "execution_count": 21,
     "metadata": {},
     "output_type": "execute_result"
    }
   ],
   "source": [
    "def felt_air_temperature(temperature, humidity):\n",
    "    return temperature - 1 / 2.3 * (temperature - 10) * (0.8 - humidity / 100)\n",
    "felt_air_temperature(28, 50)"
   ]
  },
  {
   "cell_type": "code",
   "execution_count": 27,
   "id": "d260ae7a",
   "metadata": {},
   "outputs": [],
   "source": [
    "def ft_to_cm(f , i):\n",
    "    feet_to_cm = f * 30.48\n",
    "    inches_to_cm = i * 2.54\n",
    "    return feet_to_cm + inches_to_cm\n",
    "\n",
    "assert round(ft_to_cm(5, 2) - 157.48, 6) == 0\n",
    "assert round(ft_to_cm(6, 5) - 195.58, 6) == 0"
   ]
  },
  {
   "cell_type": "code",
   "execution_count": 28,
   "id": "12f94221",
   "metadata": {},
   "outputs": [],
   "source": [
    "def quadratic(a, b, c, x):\n",
    "    return a * x**2 + b * x + c\n",
    "\n",
    "assert quadratic(1, 2, 1, 3) == 16\n",
    "assert quadratic(1, -5, -2, 7) == 12"
   ]
  },
  {
   "cell_type": "code",
   "execution_count": 29,
   "id": "b8d38ddb",
   "metadata": {},
   "outputs": [
    {
     "data": {
      "text/plain": [
       "6.0"
      ]
     },
     "execution_count": 29,
     "metadata": {},
     "output_type": "execute_result"
    }
   ],
   "source": [
    "import math\n",
    "\n",
    "def heron(a,b,c):\n",
    "    s = 0.5*(a+b+c)\n",
    "    return math.sqrt(s * (s-a) * (s-b) * (s-c))\n",
    "\n",
    "heron(3,4,5)"
   ]
  },
  {
   "cell_type": "code",
   "execution_count": 30,
   "id": "57fba54a",
   "metadata": {},
   "outputs": [
    {
     "name": "stdout",
     "output_type": "stream",
     "text": [
      "The value of s is 1.5\n"
     ]
    },
    {
     "data": {
      "text/plain": [
       "0.4330127018922193"
      ]
     },
     "execution_count": 30,
     "metadata": {},
     "output_type": "execute_result"
    }
   ],
   "source": [
    "def heron(a,b,c):\n",
    "    s = 0.5*(a+b+c)\n",
    "    print('The value of s is', s)\n",
    "    return math.sqrt(s * (s-a) * (s-b) * (s-c))\n",
    "\n",
    "heron(1,1,1)"
   ]
  },
  {
   "cell_type": "code",
   "execution_count": 33,
   "id": "ee494706",
   "metadata": {},
   "outputs": [
    {
     "data": {
      "text/plain": [
       "('shogo', 20)"
      ]
     },
     "execution_count": 33,
     "metadata": {},
     "output_type": "execute_result"
    }
   ],
   "source": [
    "def person(name, age):\n",
    "    return name, age\n",
    "      \n",
    "\n",
    "person('shogo', 20)"
   ]
  },
  {
   "cell_type": "code",
   "execution_count": 36,
   "id": "2ecddb1e",
   "metadata": {},
   "outputs": [],
   "source": [
    "def qe_disc(a, b, c):\n",
    "    return b**2 - 4*a*c\n",
    "\n",
    "def qe_solution1(a, b, c):\n",
    "    D = qe_disc(a, b, c)\n",
    "    return (-b - D**0.5) / (2*a)\n",
    "\n",
    "def qe_solution2(a, b, c):\n",
    "    D = qe_disc(a, b, c)\n",
    "    return (-b + D**0.5) / (2*a)\n",
    "\n",
    "assert qe_disc(1, -2, 1) == 0\n",
    "assert qe_disc(1, -5, 6) == 1\n",
    "assert round(qe_solution1(1, -2, 1) - 1, 6) == 0\n",
    "assert round(qe_solution2(1, -2, 1) - 1, 6) == 0\n",
    "assert round(qe_solution1(1, -5, 6) - 2, 6) == 0\n",
    "assert round(qe_solution2(1, -5, 6) - 3, 6) == 0"
   ]
  },
  {
   "cell_type": "code",
   "execution_count": 37,
   "id": "b514b760",
   "metadata": {},
   "outputs": [
    {
     "data": {
      "text/plain": [
       "1019.2"
      ]
     },
     "execution_count": 37,
     "metadata": {},
     "output_type": "execute_result"
    }
   ],
   "source": [
    "g = 9.8\n",
    "def force(m):\n",
    "    return m*g\n",
    "\n",
    "force(104)"
   ]
  },
  {
   "cell_type": "code",
   "execution_count": 38,
   "id": "390f29a8",
   "metadata": {},
   "outputs": [
    {
     "data": {
      "text/plain": [
       "3"
      ]
     },
     "execution_count": 38,
     "metadata": {},
     "output_type": "execute_result"
    }
   ],
   "source": [
    "a = 10\n",
    "def foo():\n",
    "    return a\n",
    "def bar():\n",
    "    a = 3\n",
    "    return a\n",
    "\n",
    "foo()\n",
    "bar()"
   ]
  },
  {
   "cell_type": "code",
   "execution_count": 39,
   "id": "b3eeca12",
   "metadata": {},
   "outputs": [
    {
     "data": {
      "text/plain": [
       "10"
      ]
     },
     "execution_count": 39,
     "metadata": {},
     "output_type": "execute_result"
    }
   ],
   "source": [
    "foo()"
   ]
  },
  {
   "cell_type": "code",
   "execution_count": 40,
   "id": "0e4a8bbc",
   "metadata": {},
   "outputs": [
    {
     "data": {
      "text/plain": [
       "3"
      ]
     },
     "execution_count": 40,
     "metadata": {},
     "output_type": "execute_result"
    }
   ],
   "source": [
    "bar(\n",
    ")"
   ]
  },
  {
   "cell_type": "code",
   "execution_count": 41,
   "id": "116ed65f",
   "metadata": {},
   "outputs": [
    {
     "data": {
      "text/plain": [
       "10"
      ]
     },
     "execution_count": 41,
     "metadata": {},
     "output_type": "execute_result"
    }
   ],
   "source": [
    "a"
   ]
  },
  {
   "cell_type": "code",
   "execution_count": 42,
   "id": "d5452b39",
   "metadata": {},
   "outputs": [],
   "source": [
    "a = 20"
   ]
  },
  {
   "cell_type": "code",
   "execution_count": 43,
   "id": "0c1cad9c",
   "metadata": {},
   "outputs": [
    {
     "data": {
      "text/plain": [
       "20"
      ]
     },
     "execution_count": 43,
     "metadata": {},
     "output_type": "execute_result"
    }
   ],
   "source": [
    "foo()"
   ]
  },
  {
   "cell_type": "code",
   "execution_count": 44,
   "id": "8ed9e245",
   "metadata": {},
   "outputs": [],
   "source": [
    "def boo(a):\n",
    "    return a"
   ]
  },
  {
   "cell_type": "code",
   "execution_count": 45,
   "id": "13c22d19",
   "metadata": {},
   "outputs": [
    {
     "data": {
      "text/plain": [
       "5"
      ]
     },
     "execution_count": 45,
     "metadata": {},
     "output_type": "execute_result"
    }
   ],
   "source": [
    "boo(5)"
   ]
  },
  {
   "cell_type": "code",
   "execution_count": 46,
   "id": "ab854ec9",
   "metadata": {},
   "outputs": [
    {
     "data": {
      "text/plain": [
       "20"
      ]
     },
     "execution_count": 46,
     "metadata": {},
     "output_type": "execute_result"
    }
   ],
   "source": [
    "a"
   ]
  },
  {
   "cell_type": "code",
   "execution_count": 1,
   "id": "f9c7f8e4",
   "metadata": {},
   "outputs": [],
   "source": [
    "def bmax(a,b):\n",
    "    if a > b:\n",
    "        return a\n",
    "    else:\n",
    "        return b"
   ]
  },
  {
   "cell_type": "code",
   "execution_count": 2,
   "id": "75f85b72",
   "metadata": {},
   "outputs": [
    {
     "data": {
      "text/plain": [
       "5"
      ]
     },
     "execution_count": 2,
     "metadata": {},
     "output_type": "execute_result"
    }
   ],
   "source": [
    "bmax(3,5)"
   ]
  },
  {
   "cell_type": "code",
   "execution_count": 3,
   "id": "6082ad29",
   "metadata": {},
   "outputs": [
    {
     "data": {
      "text/plain": [
       "True"
      ]
     },
     "execution_count": 3,
     "metadata": {},
     "output_type": "execute_result"
    }
   ],
   "source": [
    "1 < 2 < 3"
   ]
  },
  {
   "cell_type": "code",
   "execution_count": 4,
   "id": "756039a0",
   "metadata": {},
   "outputs": [
    {
     "data": {
      "text/plain": [
       "True"
      ]
     },
     "execution_count": 4,
     "metadata": {},
     "output_type": "execute_result"
    }
   ],
   "source": [
    "3 >= 2 < 5"
   ]
  },
  {
   "cell_type": "code",
   "execution_count": 5,
   "id": "01d0c9fe",
   "metadata": {},
   "outputs": [],
   "source": [
    "def absolute(x):\n",
    "    if x < 0:\n",
    "        return -x\n",
    "    else:\n",
    "        return x"
   ]
  },
  {
   "cell_type": "code",
   "execution_count": 6,
   "id": "a2147439",
   "metadata": {},
   "outputs": [],
   "source": [
    "assert absolute(5) == 5\n",
    "assert absolute(-5) == 5\n",
    "assert absolute(0) == 0"
   ]
  },
  {
   "cell_type": "code",
   "execution_count": 7,
   "id": "c51fb245",
   "metadata": {},
   "outputs": [],
   "source": [
    "def sign(x):\n",
    "    if x > 0:\n",
    "        return 1\n",
    "    elif x == 0:\n",
    "        return 0\n",
    "    else:\n",
    "        return -1"
   ]
  },
  {
   "cell_type": "code",
   "execution_count": 8,
   "id": "ee2fdefc",
   "metadata": {},
   "outputs": [],
   "source": [
    "assert sign(5) == 1\n",
    "assert sign(-5) == -1\n",
    "assert sign(0) == 0"
   ]
  },
  {
   "cell_type": "code",
   "execution_count": 9,
   "id": "b33bf9a3",
   "metadata": {},
   "outputs": [
    {
     "data": {
      "text/plain": [
       "True"
      ]
     },
     "execution_count": 9,
     "metadata": {},
     "output_type": "execute_result"
    }
   ],
   "source": [
    "x = 3\n",
    "x > 1"
   ]
  },
  {
   "cell_type": "code",
   "execution_count": 10,
   "id": "4d880c67",
   "metadata": {},
   "outputs": [
    {
     "data": {
      "text/plain": [
       "True"
      ]
     },
     "execution_count": 10,
     "metadata": {},
     "output_type": "execute_result"
    }
   ],
   "source": [
    "def is_even(x):\n",
    "    return x%2 == 0\n",
    "\n",
    "is_even(2)"
   ]
  },
  {
   "cell_type": "code",
   "execution_count": 11,
   "id": "07a7b7eb",
   "metadata": {},
   "outputs": [],
   "source": [
    "def is_odd(x):\n",
    "    if is_even(x):\n",
    "        return False\n",
    "    else:\n",
    "        return True\n",
    "    \n",
    "    is_old(2)"
   ]
  },
  {
   "cell_type": "code",
   "execution_count": 12,
   "id": "582f98af",
   "metadata": {},
   "outputs": [
    {
     "ename": "NameError",
     "evalue": "name 'is_old' is not defined",
     "output_type": "error",
     "traceback": [
      "\u001b[0;31m---------------------------------------------------------------------------\u001b[0m",
      "\u001b[0;31mNameError\u001b[0m                                 Traceback (most recent call last)",
      "Cell \u001b[0;32mIn[12], line 1\u001b[0m\n\u001b[0;32m----> 1\u001b[0m is_old(\u001b[38;5;241m2\u001b[39m)\n",
      "\u001b[0;31mNameError\u001b[0m: name 'is_old' is not defined"
     ]
    }
   ],
   "source": [
    "is_old(2)"
   ]
  },
  {
   "cell_type": "code",
   "execution_count": 13,
   "id": "b94b08f4",
   "metadata": {},
   "outputs": [
    {
     "name": "stdout",
     "output_type": "stream",
     "text": [
      "NG\n"
     ]
    }
   ],
   "source": [
    "if None:\n",
    "    print('OK')\n",
    "else:\n",
    "    print('NG')"
   ]
  },
  {
   "cell_type": "code",
   "execution_count": 14,
   "id": "f6e555eb",
   "metadata": {},
   "outputs": [
    {
     "name": "stdout",
     "output_type": "stream",
     "text": [
      "NG\n"
     ]
    }
   ],
   "source": [
    "if 0:\n",
    "    print('OK')\n",
    "else:\n",
    "    print('NG')"
   ]
  },
  {
   "cell_type": "code",
   "execution_count": 15,
   "id": "8d5dcf1a",
   "metadata": {},
   "outputs": [
    {
     "name": "stdout",
     "output_type": "stream",
     "text": [
      "OK\n"
     ]
    }
   ],
   "source": [
    "if -1.1:\n",
    "    print('OK')\n",
    "else:\n",
    "    print('NG')"
   ]
  },
  {
   "cell_type": "code",
   "execution_count": 16,
   "id": "e7421197",
   "metadata": {},
   "outputs": [],
   "source": [
    "def fib(n):\n",
    "    if n < 2:\n",
    "        return n\n",
    "    else:\n",
    "        return fib(n-1) + fib(n-2)"
   ]
  },
  {
   "cell_type": "code",
   "execution_count": 17,
   "id": "c3959b47",
   "metadata": {},
   "outputs": [
    {
     "data": {
      "text/plain": [
       "55"
      ]
     },
     "execution_count": 17,
     "metadata": {},
     "output_type": "execute_result"
    }
   ],
   "source": [
    "fib(10)"
   ]
  },
  {
   "cell_type": "code",
   "execution_count": null,
   "id": "fe0a67ba",
   "metadata": {},
   "outputs": [],
   "source": []
  }
 ],
 "metadata": {
  "kernelspec": {
   "display_name": "Python 3 (ipykernel)",
   "language": "python",
   "name": "python3"
  },
  "language_info": {
   "codemirror_mode": {
    "name": "ipython",
    "version": 3
   },
   "file_extension": ".py",
   "mimetype": "text/x-python",
   "name": "python",
   "nbconvert_exporter": "python",
   "pygments_lexer": "ipython3",
   "version": "3.11.7"
  }
 },
 "nbformat": 4,
 "nbformat_minor": 5
}
