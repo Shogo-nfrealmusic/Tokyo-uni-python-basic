{
 "cells": [
  {
   "cell_type": "code",
   "execution_count": 1,
   "id": "34fa0504",
   "metadata": {},
   "outputs": [
    {
     "data": {
      "text/plain": [
       "5"
      ]
     },
     "execution_count": 1,
     "metadata": {},
     "output_type": "execute_result"
    }
   ],
   "source": [
    "7-2"
   ]
  },
  {
   "cell_type": "code",
   "execution_count": 2,
   "id": "0ad7b4b4",
   "metadata": {},
   "outputs": [
    {
     "data": {
      "text/plain": [
       "7.0"
      ]
     },
     "execution_count": 2,
     "metadata": {},
     "output_type": "execute_result"
    }
   ],
   "source": [
    "7/1"
   ]
  },
  {
   "cell_type": "code",
   "execution_count": 3,
   "id": "36bbedc9",
   "metadata": {},
   "outputs": [
    {
     "data": {
      "text/plain": [
       "7"
      ]
     },
     "execution_count": 3,
     "metadata": {},
     "output_type": "execute_result"
    }
   ],
   "source": [
    "7//1\n"
   ]
  },
  {
   "cell_type": "code",
   "execution_count": 4,
   "id": "60015952",
   "metadata": {},
   "outputs": [
    {
     "data": {
      "text/plain": [
       "49"
      ]
     },
     "execution_count": 4,
     "metadata": {},
     "output_type": "execute_result"
    }
   ],
   "source": [
    "7**2"
   ]
  },
  {
   "cell_type": "code",
   "execution_count": 5,
   "id": "91ed3b29",
   "metadata": {},
   "outputs": [
    {
     "data": {
      "text/plain": [
       "49.0"
      ]
     },
     "execution_count": 5,
     "metadata": {},
     "output_type": "execute_result"
    }
   ],
   "source": [
    "7**2.0"
   ]
  },
  {
   "cell_type": "code",
   "execution_count": 6,
   "id": "fcafbdf2",
   "metadata": {},
   "outputs": [
    {
     "ename": "NameError",
     "evalue": "name 'init' is not defined",
     "output_type": "error",
     "traceback": [
      "\u001b[0;31m---------------------------------------------------------------------------\u001b[0m",
      "\u001b[0;31mNameError\u001b[0m                                 Traceback (most recent call last)",
      "Cell \u001b[0;32mIn[6], line 1\u001b[0m\n\u001b[0;32m----> 1\u001b[0m init(\u001b[38;5;241m2.8\u001b[39m)\n",
      "\u001b[0;31mNameError\u001b[0m: name 'init' is not defined"
     ]
    }
   ],
   "source": [
    "init(2.8)"
   ]
  },
  {
   "cell_type": "code",
   "execution_count": 7,
   "id": "25cb2dbe",
   "metadata": {},
   "outputs": [
    {
     "data": {
      "text/plain": [
       "2"
      ]
     },
     "execution_count": 7,
     "metadata": {},
     "output_type": "execute_result"
    }
   ],
   "source": [
    "int(2.8)"
   ]
  },
  {
   "cell_type": "code",
   "execution_count": 8,
   "id": "c3b209cb",
   "metadata": {},
   "outputs": [
    {
     "data": {
      "text/plain": [
       "1.5"
      ]
     },
     "execution_count": 8,
     "metadata": {},
     "output_type": "execute_result"
    }
   ],
   "source": [
    "18/6/2"
   ]
  },
  {
   "cell_type": "code",
   "execution_count": 9,
   "id": "4e42fed2",
   "metadata": {},
   "outputs": [
    {
     "data": {
      "text/plain": [
       "49"
      ]
     },
     "execution_count": 9,
     "metadata": {},
     "output_type": "execute_result"
    }
   ],
   "source": [
    "7 **2"
   ]
  },
  {
   "cell_type": "code",
   "execution_count": 10,
   "id": "8a7f0e4b",
   "metadata": {},
   "outputs": [
    {
     "data": {
      "text/plain": [
       "3.3333333333333335"
      ]
     },
     "execution_count": 10,
     "metadata": {},
     "output_type": "execute_result"
    }
   ],
   "source": [
    "10/3"
   ]
  },
  {
   "cell_type": "code",
   "execution_count": 11,
   "id": "c4b15919",
   "metadata": {},
   "outputs": [
    {
     "data": {
      "text/plain": [
       "1.4142135623730951"
      ]
     },
     "execution_count": 11,
     "metadata": {},
     "output_type": "execute_result"
    }
   ],
   "source": [
    "import math\n",
    "math.sqrt(2)"
   ]
  },
  {
   "cell_type": "code",
   "execution_count": 12,
   "id": "374a1683",
   "metadata": {},
   "outputs": [
    {
     "data": {
      "text/plain": [
       "3.141592653589793"
      ]
     },
     "execution_count": 12,
     "metadata": {},
     "output_type": "execute_result"
    }
   ],
   "source": [
    "math.pi"
   ]
  },
  {
   "cell_type": "code",
   "execution_count": 14,
   "id": "6db4e39a",
   "metadata": {},
   "outputs": [
    {
     "data": {
      "text/plain": [
       "1.618033988749895"
      ]
     },
     "execution_count": 14,
     "metadata": {},
     "output_type": "execute_result"
    }
   ],
   "source": [
    "(math.sqrt(5) + 1) /2"
   ]
  },
  {
   "cell_type": "code",
   "execution_count": 15,
   "id": "a58869fe",
   "metadata": {},
   "outputs": [],
   "source": [
    "h = 188"
   ]
  },
  {
   "cell_type": "code",
   "execution_count": 16,
   "id": "9e78a486",
   "metadata": {},
   "outputs": [
    {
     "data": {
      "text/plain": [
       "188"
      ]
     },
     "execution_count": 16,
     "metadata": {},
     "output_type": "execute_result"
    }
   ],
   "source": [
    "h"
   ]
  },
  {
   "cell_type": "code",
   "execution_count": 17,
   "id": "77f22c9b",
   "metadata": {},
   "outputs": [],
   "source": [
    "w = 104"
   ]
  },
  {
   "cell_type": "code",
   "execution_count": 18,
   "id": "c046db7f",
   "metadata": {},
   "outputs": [
    {
     "data": {
      "text/plain": [
       "29.425079221367138"
      ]
     },
     "execution_count": 18,
     "metadata": {},
     "output_type": "execute_result"
    }
   ],
   "source": [
    "w / (h/100) ** 2"
   ]
  },
  {
   "cell_type": "code",
   "execution_count": 19,
   "id": "315c15a8",
   "metadata": {},
   "outputs": [
    {
     "data": {
      "text/plain": [
       "94"
      ]
     },
     "execution_count": 19,
     "metadata": {},
     "output_type": "execute_result"
    }
   ],
   "source": [
    "w -= 10\n",
    "w"
   ]
  },
  {
   "cell_type": "code",
   "execution_count": 20,
   "id": "245f0f7b",
   "metadata": {},
   "outputs": [
    {
     "data": {
      "text/plain": [
       "22.22222222222222"
      ]
     },
     "execution_count": 20,
     "metadata": {},
     "output_type": "execute_result"
    }
   ],
   "source": [
    "def mbi(height, weight):\n",
    "    return weight / (height/100) ** 2\n",
    "mbi(180, 72)"
   ]
  },
  {
   "cell_type": "code",
   "execution_count": 21,
   "id": "010218aa",
   "metadata": {},
   "outputs": [
    {
     "data": {
      "text/plain": [
       "25.652173913043477"
      ]
     },
     "execution_count": 21,
     "metadata": {},
     "output_type": "execute_result"
    }
   ],
   "source": [
    "def felt_air_temperature(temperature, humidity):\n",
    "    return temperature - 1 / 2.3 * (temperature - 10) * (0.8 - humidity / 100)\n",
    "felt_air_temperature(28, 50)"
   ]
  },
  {
   "cell_type": "code",
   "execution_count": 27,
   "id": "d260ae7a",
   "metadata": {},
   "outputs": [],
   "source": [
    "def ft_to_cm(f , i):\n",
    "    feet_to_cm = f * 30.48\n",
    "    inches_to_cm = i * 2.54\n",
    "    return feet_to_cm + inches_to_cm\n",
    "\n",
    "assert round(ft_to_cm(5, 2) - 157.48, 6) == 0\n",
    "assert round(ft_to_cm(6, 5) - 195.58, 6) == 0"
   ]
  },
  {
   "cell_type": "code",
   "execution_count": 28,
   "id": "12f94221",
   "metadata": {},
   "outputs": [],
   "source": [
    "def quadratic(a, b, c, x):\n",
    "    return a * x**2 + b * x + c\n",
    "\n",
    "assert quadratic(1, 2, 1, 3) == 16\n",
    "assert quadratic(1, -5, -2, 7) == 12"
   ]
  },
  {
   "cell_type": "code",
   "execution_count": 29,
   "id": "b8d38ddb",
   "metadata": {},
   "outputs": [
    {
     "data": {
      "text/plain": [
       "6.0"
      ]
     },
     "execution_count": 29,
     "metadata": {},
     "output_type": "execute_result"
    }
   ],
   "source": [
    "import math\n",
    "\n",
    "def heron(a,b,c):\n",
    "    s = 0.5*(a+b+c)\n",
    "    return math.sqrt(s * (s-a) * (s-b) * (s-c))\n",
    "\n",
    "heron(3,4,5)"
   ]
  },
  {
   "cell_type": "code",
   "execution_count": 30,
   "id": "57fba54a",
   "metadata": {},
   "outputs": [
    {
     "name": "stdout",
     "output_type": "stream",
     "text": [
      "The value of s is 1.5\n"
     ]
    },
    {
     "data": {
      "text/plain": [
       "0.4330127018922193"
      ]
     },
     "execution_count": 30,
     "metadata": {},
     "output_type": "execute_result"
    }
   ],
   "source": [
    "def heron(a,b,c):\n",
    "    s = 0.5*(a+b+c)\n",
    "    print('The value of s is', s)\n",
    "    return math.sqrt(s * (s-a) * (s-b) * (s-c))\n",
    "\n",
    "heron(1,1,1)"
   ]
  },
  {
   "cell_type": "code",
   "execution_count": 33,
   "id": "ee494706",
   "metadata": {},
   "outputs": [
    {
     "data": {
      "text/plain": [
       "('shogo', 20)"
      ]
     },
     "execution_count": 33,
     "metadata": {},
     "output_type": "execute_result"
    }
   ],
   "source": [
    "def person(name, age):\n",
    "    return name, age\n",
    "      \n",
    "\n",
    "person('shogo', 20)"
   ]
  },
  {
   "cell_type": "code",
   "execution_count": 36,
   "id": "2ecddb1e",
   "metadata": {},
   "outputs": [],
   "source": [
    "def qe_disc(a, b, c):\n",
    "    return b**2 - 4*a*c\n",
    "\n",
    "def qe_solution1(a, b, c):\n",
    "    D = qe_disc(a, b, c)\n",
    "    return (-b - D**0.5) / (2*a)\n",
    "\n",
    "def qe_solution2(a, b, c):\n",
    "    D = qe_disc(a, b, c)\n",
    "    return (-b + D**0.5) / (2*a)\n",
    "\n",
    "assert qe_disc(1, -2, 1) == 0\n",
    "assert qe_disc(1, -5, 6) == 1\n",
    "assert round(qe_solution1(1, -2, 1) - 1, 6) == 0\n",
    "assert round(qe_solution2(1, -2, 1) - 1, 6) == 0\n",
    "assert round(qe_solution1(1, -5, 6) - 2, 6) == 0\n",
    "assert round(qe_solution2(1, -5, 6) - 3, 6) == 0"
   ]
  },
  {
   "cell_type": "code",
   "execution_count": 37,
   "id": "b514b760",
   "metadata": {},
   "outputs": [
    {
     "data": {
      "text/plain": [
       "1019.2"
      ]
     },
     "execution_count": 37,
     "metadata": {},
     "output_type": "execute_result"
    }
   ],
   "source": [
    "g = 9.8\n",
    "def force(m):\n",
    "    return m*g\n",
    "\n",
    "force(104)"
   ]
  },
  {
   "cell_type": "code",
   "execution_count": 38,
   "id": "390f29a8",
   "metadata": {},
   "outputs": [
    {
     "data": {
      "text/plain": [
       "3"
      ]
     },
     "execution_count": 38,
     "metadata": {},
     "output_type": "execute_result"
    }
   ],
   "source": [
    "a = 10\n",
    "def foo():\n",
    "    return a\n",
    "def bar():\n",
    "    a = 3\n",
    "    return a\n",
    "\n",
    "foo()\n",
    "bar()"
   ]
  },
  {
   "cell_type": "code",
   "execution_count": 39,
   "id": "b3eeca12",
   "metadata": {},
   "outputs": [
    {
     "data": {
      "text/plain": [
       "10"
      ]
     },
     "execution_count": 39,
     "metadata": {},
     "output_type": "execute_result"
    }
   ],
   "source": [
    "foo()"
   ]
  },
  {
   "cell_type": "code",
   "execution_count": 40,
   "id": "0e4a8bbc",
   "metadata": {},
   "outputs": [
    {
     "data": {
      "text/plain": [
       "3"
      ]
     },
     "execution_count": 40,
     "metadata": {},
     "output_type": "execute_result"
    }
   ],
   "source": [
    "bar(\n",
    ")"
   ]
  },
  {
   "cell_type": "code",
   "execution_count": 41,
   "id": "116ed65f",
   "metadata": {},
   "outputs": [
    {
     "data": {
      "text/plain": [
       "10"
      ]
     },
     "execution_count": 41,
     "metadata": {},
     "output_type": "execute_result"
    }
   ],
   "source": [
    "a"
   ]
  },
  {
   "cell_type": "code",
   "execution_count": 42,
   "id": "d5452b39",
   "metadata": {},
   "outputs": [],
   "source": [
    "a = 20"
   ]
  },
  {
   "cell_type": "code",
   "execution_count": 43,
   "id": "0c1cad9c",
   "metadata": {},
   "outputs": [
    {
     "data": {
      "text/plain": [
       "20"
      ]
     },
     "execution_count": 43,
     "metadata": {},
     "output_type": "execute_result"
    }
   ],
   "source": [
    "foo()"
   ]
  },
  {
   "cell_type": "code",
   "execution_count": 44,
   "id": "8ed9e245",
   "metadata": {},
   "outputs": [],
   "source": [
    "def boo(a):\n",
    "    return a"
   ]
  },
  {
   "cell_type": "code",
   "execution_count": 45,
   "id": "13c22d19",
   "metadata": {},
   "outputs": [
    {
     "data": {
      "text/plain": [
       "5"
      ]
     },
     "execution_count": 45,
     "metadata": {},
     "output_type": "execute_result"
    }
   ],
   "source": [
    "boo(5)"
   ]
  },
  {
   "cell_type": "code",
   "execution_count": 46,
   "id": "ab854ec9",
   "metadata": {},
   "outputs": [
    {
     "data": {
      "text/plain": [
       "20"
      ]
     },
     "execution_count": 46,
     "metadata": {},
     "output_type": "execute_result"
    }
   ],
   "source": [
    "a"
   ]
  },
  {
   "cell_type": "code",
   "execution_count": 1,
   "id": "f9c7f8e4",
   "metadata": {},
   "outputs": [],
   "source": [
    "def bmax(a,b):\n",
    "    if a > b:\n",
    "        return a\n",
    "    else:\n",
    "        return b"
   ]
  },
  {
   "cell_type": "code",
   "execution_count": 2,
   "id": "e4b43fdb",
   "metadata": {},
   "outputs": [
    {
     "data": {
      "text/plain": [
       "5"
      ]
     },
     "execution_count": 2,
     "metadata": {},
     "output_type": "execute_result"
    }
   ],
   "source": [
    "bmax(3,5)"
   ]
  },
  {
   "cell_type": "code",
   "execution_count": 3,
   "id": "a3946dcb",
   "metadata": {},
   "outputs": [
    {
     "data": {
      "text/plain": [
       "True"
      ]
     },
     "execution_count": 3,
     "metadata": {},
     "output_type": "execute_result"
    }
   ],
   "source": [
    "1 < 2 < 3"
   ]
  },
  {
   "cell_type": "code",
   "execution_count": 4,
   "id": "c7eff24d",
   "metadata": {},
   "outputs": [
    {
     "data": {
      "text/plain": [
       "True"
      ]
     },
     "execution_count": 4,
     "metadata": {},
     "output_type": "execute_result"
    }
   ],
   "source": [
    "3 >= 2 < 5"
   ]
  },
  {
   "cell_type": "code",
   "execution_count": 5,
   "id": "c84a1317",
   "metadata": {},
   "outputs": [],
   "source": [
    "def absolute(x):\n",
    "    if x < 0:\n",
    "        return -x\n",
    "    else:\n",
    "        return x"
   ]
  },
  {
   "cell_type": "code",
   "execution_count": 6,
   "id": "03544767",
   "metadata": {},
   "outputs": [],
   "source": [
    "assert absolute(5) == 5\n",
    "assert absolute(-5) == 5\n",
    "assert absolute(0) == 0"
   ]
  },
  {
   "cell_type": "code",
   "execution_count": 7,
   "id": "414d5188",
   "metadata": {},
   "outputs": [],
   "source": [
    "def sign(x):\n",
    "    if x > 0:\n",
    "        return 1\n",
    "    elif x == 0:\n",
    "        return 0\n",
    "    else:\n",
    "        return -1"
   ]
  },
  {
   "cell_type": "code",
   "execution_count": 8,
   "id": "1683cf8d",
   "metadata": {},
   "outputs": [],
   "source": [
    "assert sign(5) == 1\n",
    "assert sign(-5) == -1\n",
    "assert sign(0) == 0"
   ]
  },
  {
   "cell_type": "code",
   "execution_count": 9,
   "id": "3fd19264",
   "metadata": {},
   "outputs": [
    {
     "data": {
      "text/plain": [
       "True"
      ]
     },
     "execution_count": 9,
     "metadata": {},
     "output_type": "execute_result"
    }
   ],
   "source": [
    "x = 3\n",
    "x > 1"
   ]
  },
  {
   "cell_type": "code",
   "execution_count": 10,
   "id": "f7096f86",
   "metadata": {},
   "outputs": [
    {
     "data": {
      "text/plain": [
       "True"
      ]
     },
     "execution_count": 10,
     "metadata": {},
     "output_type": "execute_result"
    }
   ],
   "source": [
    "def is_even(x):\n",
    "    return x%2 == 0\n",
    "\n",
    "is_even(2)"
   ]
  },
  {
   "cell_type": "code",
   "execution_count": 11,
   "id": "a6f67fba",
   "metadata": {},
   "outputs": [],
   "source": [
    "def is_odd(x):\n",
    "    if is_even(x):\n",
    "        return False\n",
    "    else:\n",
    "        return True\n",
    "    \n",
    "    is_old(2)"
   ]
  },
  {
   "cell_type": "code",
   "execution_count": 12,
   "id": "2131a0db",
   "metadata": {},
   "outputs": [
    {
     "ename": "NameError",
     "evalue": "name 'is_old' is not defined",
     "output_type": "error",
     "traceback": [
      "\u001b[0;31m---------------------------------------------------------------------------\u001b[0m",
      "\u001b[0;31mNameError\u001b[0m                                 Traceback (most recent call last)",
      "Cell \u001b[0;32mIn[12], line 1\u001b[0m\n\u001b[0;32m----> 1\u001b[0m is_old(\u001b[38;5;241m2\u001b[39m)\n",
      "\u001b[0;31mNameError\u001b[0m: name 'is_old' is not defined"
     ]
    }
   ],
   "source": [
    "is_old(2)"
   ]
  },
  {
   "cell_type": "code",
   "execution_count": 13,
   "id": "5ead7fcf",
   "metadata": {},
   "outputs": [
    {
     "name": "stdout",
     "output_type": "stream",
     "text": [
      "NG\n"
     ]
    }
   ],
   "source": [
    "if None:\n",
    "    print('OK')\n",
    "else:\n",
    "    print('NG')"
   ]
  },
  {
   "cell_type": "code",
   "execution_count": 14,
   "id": "226f85f7",
   "metadata": {},
   "outputs": [
    {
     "name": "stdout",
     "output_type": "stream",
     "text": [
      "NG\n"
     ]
    }
   ],
   "source": [
    "if 0:\n",
    "    print('OK')\n",
    "else:\n",
    "    print('NG')"
   ]
  },
  {
   "cell_type": "code",
   "execution_count": 15,
   "id": "395ae405",
   "metadata": {},
   "outputs": [
    {
     "name": "stdout",
     "output_type": "stream",
     "text": [
      "OK\n"
     ]
    }
   ],
   "source": [
    "if -1.1:\n",
    "    print('OK')\n",
    "else:\n",
    "    print('NG')"
   ]
  },
  {
   "cell_type": "code",
   "execution_count": 16,
   "id": "1221f5f4",
   "metadata": {},
   "outputs": [],
   "source": [
    "def fib(n):\n",
    "    if n < 2:\n",
    "        return n\n",
    "    else:\n",
    "        return fib(n-1) + fib(n-2)"
   ]
  },
  {
   "cell_type": "code",
   "execution_count": 17,
   "id": "6b2976a8",
   "metadata": {},
   "outputs": [
    {
     "data": {
      "text/plain": [
       "55"
      ]
     },
     "execution_count": 17,
     "metadata": {},
     "output_type": "execute_result"
    }
   ],
   "source": [
    "fib(10)"
   ]
  },
  {
   "cell_type": "code",
   "execution_count": 19,
   "id": "fb39e477",
   "metadata": {},
   "outputs": [],
   "source": [
    "def square(x):\n",
    "    return x*x\n",
    "\n",
    "x = -2\n",
    "assert square(x) >= 0"
   ]
  },
  {
   "cell_type": "code",
   "execution_count": 20,
   "id": "02fa4477",
   "metadata": {},
   "outputs": [],
   "source": [
    "def square(x):\n",
    "    return x*x\n",
    "\n",
    "assert square(2) == 4\n",
    "assert square(-2) == 4\n",
    "assert square(0) == 0"
   ]
  },
  {
   "cell_type": "code",
   "execution_count": 21,
   "id": "e5c9a6ca",
   "metadata": {},
   "outputs": [
    {
     "ename": "AssertionError",
     "evalue": "",
     "output_type": "error",
     "traceback": [
      "\u001b[0;31m---------------------------------------------------------------------------\u001b[0m",
      "\u001b[0;31mAssertionError\u001b[0m                            Traceback (most recent call last)",
      "Cell \u001b[0;32mIn[21], line 11\u001b[0m\n\u001b[1;32m      8\u001b[0m         \u001b[38;5;28;01mreturn\u001b[39;00m z\n\u001b[1;32m      9\u001b[0m     \u001b[38;5;28;01mreturn\u001b[39;00m y\n\u001b[0;32m---> 11\u001b[0m \u001b[38;5;28;01massert\u001b[39;00m median(\u001b[38;5;241m3\u001b[39m, \u001b[38;5;241m1\u001b[39m, \u001b[38;5;241m2\u001b[39m) \u001b[38;5;241m==\u001b[39m \u001b[38;5;241m2\u001b[39m\n",
      "\u001b[0;31mAssertionError\u001b[0m: "
     ]
    }
   ],
   "source": [
    "def median(x, y, z):\n",
    "    if x > y:\n",
    "        x = y\n",
    "        y = x\n",
    "    if z < x:\n",
    "        return x\n",
    "    if z < y:\n",
    "        return z\n",
    "    return y\n",
    "\n",
    "assert median(3, 1, 2) == 2\n"
   ]
  },
  {
   "cell_type": "code",
   "execution_count": 22,
   "id": "d3622d91",
   "metadata": {},
   "outputs": [
    {
     "name": "stdout",
     "output_type": "stream",
     "text": [
      "3 1 2\n",
      "1 1 2\n"
     ]
    },
    {
     "ename": "AssertionError",
     "evalue": "",
     "output_type": "error",
     "traceback": [
      "\u001b[0;31m---------------------------------------------------------------------------\u001b[0m",
      "\u001b[0;31mAssertionError\u001b[0m                            Traceback (most recent call last)",
      "Cell \u001b[0;32mIn[22], line 13\u001b[0m\n\u001b[1;32m     10\u001b[0m         \u001b[38;5;28;01mreturn\u001b[39;00m z\n\u001b[1;32m     11\u001b[0m     \u001b[38;5;28;01mreturn\u001b[39;00m y\n\u001b[0;32m---> 13\u001b[0m \u001b[38;5;28;01massert\u001b[39;00m median(\u001b[38;5;241m3\u001b[39m, \u001b[38;5;241m1\u001b[39m, \u001b[38;5;241m2\u001b[39m) \u001b[38;5;241m==\u001b[39m \u001b[38;5;241m2\u001b[39m\n",
      "\u001b[0;31mAssertionError\u001b[0m: "
     ]
    }
   ],
   "source": [
    "def median(x, y, z):\n",
    "    print(x, y, z)\n",
    "    if x > y:\n",
    "        x = y\n",
    "        y = x\n",
    "    print(x, y, z)\n",
    "    if z < x:\n",
    "        return x\n",
    "    if z < y:\n",
    "        return z\n",
    "    return y\n",
    "\n",
    "assert median(3, 1, 2) == 2"
   ]
  },
  {
   "cell_type": "code",
   "execution_count": 23,
   "id": "eab26c1d",
   "metadata": {},
   "outputs": [
    {
     "name": "stdout",
     "output_type": "stream",
     "text": [
      "3 1 2\n",
      "1 3 2\n"
     ]
    }
   ],
   "source": [
    "def median(x, y, z):\n",
    "    print(x, y, z)\n",
    "    if x > y:\n",
    "        w = x\n",
    "        x = y\n",
    "        y = w\n",
    "    print(x, y, z)\n",
    "    if z < x:\n",
    "        return x\n",
    "    if z < y:\n",
    "        return z\n",
    "    return y\n",
    "\n",
    "assert median(3, 1, 2) == 2"
   ]
  },
  {
   "cell_type": "code",
   "execution_count": 24,
   "id": "4b5c069a",
   "metadata": {},
   "outputs": [],
   "source": [
    "def median(x, y, z):\n",
    "    if x > y:\n",
    "        w = x\n",
    "        x = y\n",
    "        y = w\n",
    "    if z < x:\n",
    "        return x\n",
    "    if z < y:\n",
    "        return z\n",
    "    return y\n",
    "\n",
    "assert median(3, 1, 2) == 2"
   ]
  },
  {
   "cell_type": "code",
   "execution_count": 1,
   "id": "5ac54683",
   "metadata": {},
   "outputs": [
    {
     "data": {
      "text/plain": [
       "'HELLO'"
      ]
     },
     "execution_count": 1,
     "metadata": {},
     "output_type": "execute_result"
    }
   ],
   "source": [
    "word1 = \"HEllo\"\n",
    "word2 = \"HELLO\"\n",
    "word1\n",
    "word2"
   ]
  },
  {
   "cell_type": "code",
   "execution_count": 2,
   "id": "4a1e77ea",
   "metadata": {},
   "outputs": [
    {
     "data": {
      "text/plain": [
       "'HEllo'"
      ]
     },
     "execution_count": 2,
     "metadata": {},
     "output_type": "execute_result"
    }
   ],
   "source": [
    "word1"
   ]
  },
  {
   "cell_type": "code",
   "execution_count": 3,
   "id": "d32df0b0",
   "metadata": {},
   "outputs": [],
   "source": [
    "word3 = str(123)"
   ]
  },
  {
   "cell_type": "code",
   "execution_count": 4,
   "id": "06ec298e",
   "metadata": {},
   "outputs": [
    {
     "data": {
      "text/plain": [
       "'123'"
      ]
     },
     "execution_count": 4,
     "metadata": {},
     "output_type": "execute_result"
    }
   ],
   "source": [
    "word3"
   ]
  },
  {
   "cell_type": "code",
   "execution_count": 6,
   "id": "db425915",
   "metadata": {},
   "outputs": [
    {
     "data": {
      "text/plain": [
       "123.4"
      ]
     },
     "execution_count": 6,
     "metadata": {},
     "output_type": "execute_result"
    }
   ],
   "source": [
    "i = float(\"123.4\")\n",
    "i"
   ]
  },
  {
   "cell_type": "code",
   "execution_count": 7,
   "id": "0625e70b",
   "metadata": {},
   "outputs": [
    {
     "ename": "TypeError",
     "evalue": "'str' object does not support item assignment",
     "output_type": "error",
     "traceback": [
      "\u001b[0;31m---------------------------------------------------------------------------\u001b[0m",
      "\u001b[0;31mTypeError\u001b[0m                                 Traceback (most recent call last)",
      "Cell \u001b[0;32mIn[7], line 2\u001b[0m\n\u001b[1;32m      1\u001b[0m word1 \u001b[38;5;241m=\u001b[39m \u001b[38;5;124m'\u001b[39m\u001b[38;5;124mhello\u001b[39m\u001b[38;5;124m'\u001b[39m\n\u001b[0;32m----> 2\u001b[0m word1[\u001b[38;5;241m0\u001b[39m] \u001b[38;5;241m=\u001b[39m \u001b[38;5;124m'\u001b[39m\u001b[38;5;124mH\u001b[39m\u001b[38;5;124m'\u001b[39m\n",
      "\u001b[0;31mTypeError\u001b[0m: 'str' object does not support item assignment"
     ]
    }
   ],
   "source": [
    "word1 = 'hello'\n",
    "word1[0] = 'H'"
   ]
  },
  {
   "cell_type": "code",
   "execution_count": 8,
   "id": "20edb82e",
   "metadata": {},
   "outputs": [
    {
     "ename": "IndexError",
     "evalue": "string index out of range",
     "output_type": "error",
     "traceback": [
      "\u001b[0;31m---------------------------------------------------------------------------\u001b[0m",
      "\u001b[0;31mIndexError\u001b[0m                                Traceback (most recent call last)",
      "Cell \u001b[0;32mIn[8], line 1\u001b[0m\n\u001b[0;32m----> 1\u001b[0m word1[\u001b[38;5;241m100\u001b[39m]\n",
      "\u001b[0;31mIndexError\u001b[0m: string index out of range"
     ]
    }
   ],
   "source": [
    "word1[100]"
   ]
  },
  {
   "cell_type": "code",
   "execution_count": 9,
   "id": "a875e74a",
   "metadata": {},
   "outputs": [],
   "source": [
    "digits1 = \"0123456789\""
   ]
  },
  {
   "cell_type": "code",
   "execution_count": 10,
   "id": "81741c46",
   "metadata": {},
   "outputs": [
    {
     "data": {
      "text/plain": [
       "'123'"
      ]
     },
     "execution_count": 10,
     "metadata": {},
     "output_type": "execute_result"
    }
   ],
   "source": [
    "digits1[1:4]"
   ]
  },
  {
   "cell_type": "code",
   "execution_count": 11,
   "id": "14008e69",
   "metadata": {},
   "outputs": [],
   "source": [
    "blank = ''"
   ]
  },
  {
   "cell_type": "code",
   "execution_count": 12,
   "id": "cba79d66",
   "metadata": {},
   "outputs": [
    {
     "data": {
      "text/plain": [
       "'2980円'"
      ]
     },
     "execution_count": 12,
     "metadata": {},
     "output_type": "execute_result"
    }
   ],
   "source": [
    "price = '2,980円'\n",
    "price.replace(',', '')"
   ]
  },
  {
   "cell_type": "code",
   "execution_count": 13,
   "id": "936855c4",
   "metadata": {},
   "outputs": [
    {
     "ename": "SyntaxError",
     "evalue": "invalid character '、' (U+3001) (464396015.py, line 1)",
     "output_type": "error",
     "traceback": [
      "\u001b[0;36m  Cell \u001b[0;32mIn[13], line 1\u001b[0;36m\u001b[0m\n\u001b[0;31m    文字列のスライスにおいて、指定したインデックスの範囲に文字列が存在しない場合、 たとえば、最初に指定したインデックス x に対して、 2番目のインデックスの値に x 以下のインデックスの値を指定するとどうなるでしょうか？ （ただし、2つのインデックスは同じ符号を持つとし、スライスの3番目の値は用いないとします。） このような場合、結果は次のように空文字列となります（エラーが出たり、結果が None にはならないことに注意してください）。\u001b[0m\n\u001b[0m                ^\u001b[0m\n\u001b[0;31mSyntaxError\u001b[0m\u001b[0;31m:\u001b[0m invalid character '、' (U+3001)\n"
     ]
    }
   ],
   "source": [
    "文字列のスライスにおいて、指定したインデックスの範囲に文字列が存在しない場合、 たとえば、最初に指定したインデックス x に対して、 2番目のインデックスの値に x 以下のインデックスの値を指定するとどうなるでしょうか？ （ただし、2つのインデックスは同じ符号を持つとし、スライスの3番目の値は用いないとします。） このような場合、結果は次のように空文字列となります（エラーが出たり、結果が None にはならないことに注意してください）。\n",
    "\n",
    "digits1='0123456789'\n",
    "print('空文字列1 = ', digits1[4:2])\n",
    "print('空文字列2 = ', digits1[-1:-4])\n",
    "print('空文字列3 = ', digits1[3:3])\n",
    "print('空文字列ではない = ', digits1[3:-1])"
   ]
  },
  {
   "cell_type": "code",
   "execution_count": 14,
   "id": "d8a85ba4",
   "metadata": {},
   "outputs": [
    {
     "data": {
      "text/plain": [
       "True"
      ]
     },
     "execution_count": 14,
     "metadata": {},
     "output_type": "execute_result"
    }
   ],
   "source": [
    "'lo' in 'hello'"
   ]
  },
  {
   "cell_type": "code",
   "execution_count": 15,
   "id": "b7d4446a",
   "metadata": {},
   "outputs": [
    {
     "data": {
      "text/plain": [
       "True"
      ]
     },
     "execution_count": 15,
     "metadata": {},
     "output_type": "execute_result"
    }
   ],
   "source": [
    "word1 =  'hello'\n",
    "substr2 = 'z'\n",
    "substr2 not in word1"
   ]
  },
  {
   "cell_type": "code",
   "execution_count": 16,
   "id": "1a0e81d4",
   "metadata": {},
   "outputs": [
    {
     "data": {
      "text/plain": [
       "\"This is 'MINE'\""
      ]
     },
     "execution_count": 16,
     "metadata": {},
     "output_type": "execute_result"
    }
   ],
   "source": [
    "escaped1 = 'This is \\'MINE\\''\n",
    "escaped1\n",
    "\n"
   ]
  },
  {
   "cell_type": "code",
   "execution_count": 17,
   "id": "568a4226",
   "metadata": {},
   "outputs": [
    {
     "data": {
      "text/plain": [
       "\"This is 'MINE'\""
      ]
     },
     "execution_count": 17,
     "metadata": {},
     "output_type": "execute_result"
    }
   ],
   "source": [
    "doublequated = \"This is 'MINE'\"\n",
    "doublequated\n"
   ]
  },
  {
   "cell_type": "code",
   "execution_count": 18,
   "id": "354fc442",
   "metadata": {},
   "outputs": [
    {
     "name": "stdout",
     "output_type": "stream",
     "text": [
      "時は金なり\n",
      "\"Time is money\"\n",
      "Time is \\\n"
     ]
    }
   ],
   "source": [
    "escaped2 = \"時は金なり\\n\\\"Time is money\\\"\\nTime is \\\\\"\n",
    "print(escaped2)"
   ]
  },
  {
   "cell_type": "code",
   "execution_count": 19,
   "id": "2d6a2cca",
   "metadata": {},
   "outputs": [
    {
     "name": "stdout",
     "output_type": "stream",
     "text": [
      "時は金なり\n",
      "'Time is money'\n",
      "Time is \\\n"
     ]
    }
   ],
   "source": [
    "triple_single_quated = '''時は金なり\n",
    "'Time is money'\n",
    "Time is \\\\'''\n",
    "print(triple_single_quated)"
   ]
  },
  {
   "cell_type": "code",
   "execution_count": 20,
   "id": "43e87431",
   "metadata": {},
   "outputs": [
    {
     "name": "stdout",
     "output_type": "stream",
     "text": [
      "\n",
      "\n",
      "¥n\n",
      "\n",
      "\n"
     ]
    }
   ],
   "source": [
    "print(\"\\n\")\n",
    "print(\"¥n\")\n",
    "print(\"\\n\")"
   ]
  },
  {
   "cell_type": "code",
   "execution_count": 21,
   "id": "2633e1fc",
   "metadata": {},
   "outputs": [
    {
     "data": {
      "text/plain": [
       "'hello world'"
      ]
     },
     "execution_count": 21,
     "metadata": {},
     "output_type": "execute_result"
    }
   ],
   "source": [
    "word1 = 'hello'\n",
    "word2 = ' world'\n",
    "text1 = word1 + word2\n",
    "text1"
   ]
  },
  {
   "cell_type": "code",
   "execution_count": 22,
   "id": "9793f5e0",
   "metadata": {},
   "outputs": [
    {
     "data": {
      "text/plain": [
       "'hellohellohello'"
      ]
     },
     "execution_count": 22,
     "metadata": {},
     "output_type": "execute_result"
    }
   ],
   "source": [
    "word1 = 'hello'\n",
    "word1 * 3"
   ]
  },
  {
   "cell_type": "code",
   "execution_count": 23,
   "id": "eb118fa2",
   "metadata": {},
   "outputs": [
    {
     "data": {
      "text/plain": [
       "'he123123o'"
      ]
     },
     "execution_count": 23,
     "metadata": {},
     "output_type": "execute_result"
    }
   ],
   "source": [
    "word1 = 'hello'\n",
    "word1.replace('l', '123')"
   ]
  },
  {
   "cell_type": "code",
   "execution_count": 24,
   "id": "95ba88f8",
   "metadata": {},
   "outputs": [
    {
     "data": {
      "text/plain": [
       "'hello'"
      ]
     },
     "execution_count": 24,
     "metadata": {},
     "output_type": "execute_result"
    }
   ],
   "source": [
    "word1"
   ]
  },
  {
   "cell_type": "code",
   "execution_count": 25,
   "id": "5754e549",
   "metadata": {},
   "outputs": [],
   "source": [
    "def remove_punctuations(str_engsentences):\n",
    "    str1 = str_engsentences.replace('.', '') # 指定の文字を空文字に置換\n",
    "    str1 = str1.replace(',', '')\n",
    "    str1 = str1.replace(':', '')\n",
    "    str1 = str1.replace(';', '')\n",
    "    str1 = str1.replace('!', '')\n",
    "    str1 = str1.replace('?', '')\n",
    "    return str1"
   ]
  },
  {
   "cell_type": "code",
   "execution_count": 26,
   "id": "f56766b5",
   "metadata": {},
   "outputs": [
    {
     "name": "stdout",
     "output_type": "stream",
     "text": [
      "True\n"
     ]
    }
   ],
   "source": [
    "print(remove_punctuations('Quiet, uh, donations, you want me to make a donation to the coast guard youth auxiliary?') == 'Quiet uh donations you want me to make a donation to the coast guard youth auxiliary')\n"
   ]
  },
  {
   "cell_type": "code",
   "execution_count": 27,
   "id": "3c6bb6a4",
   "metadata": {},
   "outputs": [
    {
     "name": "stdout",
     "output_type": "stream",
     "text": [
      "True\n"
     ]
    }
   ],
   "source": [
    "def atgc_bppair(str_atgc):\n",
    "    str_pair = str_atgc.replace('A', 't')# 指定の文字に置換。ただし全て小文字\n",
    "    str_pair = str_pair.replace('T', 'a')\n",
    "    str_pair = str_pair.replace('G', 'c')\n",
    "    str_pair = str_pair.replace('C', 'g')\n",
    "    str_pair = str_pair.upper() # 置換済みの小文字の列を大文字に変換\n",
    "    return str_pair\n",
    "print(atgc_bppair('AAGCCCCATGGTAA') == 'TTCGGGGTACCATT')"
   ]
  },
  {
   "cell_type": "code",
   "execution_count": 28,
   "id": "9644f85b",
   "metadata": {},
   "outputs": [
    {
     "data": {
      "text/plain": [
       "3"
      ]
     },
     "execution_count": 28,
     "metadata": {},
     "output_type": "execute_result"
    }
   ],
   "source": [
    "word1 = 'hello'\n",
    "word1.index('lo')"
   ]
  },
  {
   "cell_type": "code",
   "execution_count": 29,
   "id": "9fccc0e1",
   "metadata": {},
   "outputs": [],
   "source": [
    "def swap_colon(str1):\n",
    "    #コロンの位置を取得する # findでもOK\n",
    "    col_index = str1.index(':')\n",
    "    #コロンの位置を基準に前半と後半の部分文字列を取得する\n",
    "    str2, str3 = str1[:col_index], str1[col_index+1:]\n",
    "    #部分文字列の順序を入れ替えて結合する\n",
    "    str4 = str3 + ':' + str2\n",
    "    return str4\n",
    "#swap_colon('hello:world')"
   ]
  },
  {
   "cell_type": "code",
   "execution_count": 30,
   "id": "60aa6e7e",
   "metadata": {},
   "outputs": [
    {
     "data": {
      "text/plain": [
       "2"
      ]
     },
     "execution_count": 30,
     "metadata": {},
     "output_type": "execute_result"
    }
   ],
   "source": [
    "word1 = 'hello'\n",
    "word1.count('l')\n"
   ]
  },
  {
   "cell_type": "code",
   "execution_count": 31,
   "id": "52468a2f",
   "metadata": {},
   "outputs": [
    {
     "name": "stdout",
     "output_type": "stream",
     "text": [
      "True\n"
     ]
    }
   ],
   "source": [
    "def atgc_count(str_atgc, str_bpname):\n",
    "    return str_atgc.count(str_bpname)\n",
    "print(atgc_count('AAGCCCCATGGTAA', 'A') == 5)"
   ]
  },
  {
   "cell_type": "code",
   "execution_count": 32,
   "id": "41cd3e1a",
   "metadata": {},
   "outputs": [
    {
     "data": {
      "text/plain": [
       "'dna'"
      ]
     },
     "execution_count": 32,
     "metadata": {},
     "output_type": "execute_result"
    }
   ],
   "source": [
    "upper_dna = 'DNA'\n",
    "upper_dna.lower() # 全ての文字を小文字にする"
   ]
  },
  {
   "cell_type": "code",
   "execution_count": 33,
   "id": "aa0d8ad1",
   "metadata": {},
   "outputs": [
    {
     "data": {
      "text/plain": [
       "'Hello world!'"
      ]
     },
     "execution_count": 33,
     "metadata": {},
     "output_type": "execute_result"
    }
   ],
   "source": [
    "lower_text = 'hello world!'\n",
    "lower_text.capitalize() # 先頭文字を大文字にする"
   ]
  },
  {
   "cell_type": "code",
   "execution_count": 34,
   "id": "7dc475cf",
   "metadata": {},
   "outputs": [
    {
     "data": {
      "text/plain": [
       "'HELLO WORLD!'"
      ]
     },
     "execution_count": 34,
     "metadata": {},
     "output_type": "execute_result"
    }
   ],
   "source": [
    "lower_text.upper() #全ての文字を大文字にする"
   ]
  },
  {
   "cell_type": "code",
   "execution_count": 35,
   "id": "5073f7a0",
   "metadata": {},
   "outputs": [
    {
     "data": {
      "text/plain": [
       "'abc'"
      ]
     },
     "execution_count": 35,
     "metadata": {},
     "output_type": "execute_result"
    }
   ],
   "source": [
    "'  abc\\n'.strip()"
   ]
  },
  {
   "cell_type": "code",
   "execution_count": 36,
   "id": "b4008654",
   "metadata": {},
   "outputs": [
    {
     "data": {
      "text/plain": [
       "'a b c'"
      ]
     },
     "execution_count": 36,
     "metadata": {},
     "output_type": "execute_result"
    }
   ],
   "source": [
    "'　a b c　\\n'.strip()"
   ]
  },
  {
   "cell_type": "code",
   "execution_count": 37,
   "id": "661de1ee",
   "metadata": {},
   "outputs": [
    {
     "data": {
      "text/plain": [
       "'abc\\n'"
      ]
     },
     "execution_count": 37,
     "metadata": {},
     "output_type": "execute_result"
    }
   ],
   "source": [
    "'  abc\\n'.lstrip()"
   ]
  },
  {
   "cell_type": "code",
   "execution_count": 38,
   "id": "4f8e5574",
   "metadata": {},
   "outputs": [
    {
     "data": {
      "text/plain": [
       "'  abc'"
      ]
     },
     "execution_count": 38,
     "metadata": {},
     "output_type": "execute_result"
    }
   ],
   "source": [
    "'  abc\\n'.rstrip()"
   ]
  },
  {
   "cell_type": "code",
   "execution_count": 39,
   "id": "ad95b49f",
   "metadata": {},
   "outputs": [
    {
     "name": "stdout",
     "output_type": "stream",
     "text": [
      "True\n",
      "False\n"
     ]
    }
   ],
   "source": [
    "print('abc' == 'abc')\n",
    "print('ab' == 'abc')"
   ]
  },
  {
   "cell_type": "code",
   "execution_count": 40,
   "id": "66034dea",
   "metadata": {},
   "outputs": [
    {
     "name": "stdout",
     "output_type": "stream",
     "text": [
      "False\n",
      "True\n"
     ]
    }
   ],
   "source": [
    "print('abc' != 'abc')\n",
    "print('ab' != 'abc')"
   ]
  },
  {
   "cell_type": "code",
   "execution_count": 41,
   "id": "0c3272a1",
   "metadata": {},
   "outputs": [
    {
     "name": "stdout",
     "output_type": "stream",
     "text": [
      "True\n",
      "False\n",
      "True\n",
      "True\n"
     ]
    }
   ],
   "source": [
    "print('abc' <= 'abc')\n",
    "print('abc' < 'abc')\n",
    "print('abc' < 'abd')\n",
    "print('ab' < 'abc')"
   ]
  },
  {
   "cell_type": "code",
   "execution_count": 42,
   "id": "137775ff",
   "metadata": {},
   "outputs": [
    {
     "name": "stdout",
     "output_type": "stream",
     "text": [
      "True\n",
      "True\n"
     ]
    }
   ],
   "source": [
    "def check_lower(str_engsentences):\n",
    "    if str_engsentences == str_engsentences.lower():#元の文字列と小文字に変換した文字列を比較する\n",
    "        return True\n",
    "    return False\n",
    "print(check_lower('down down down') == True)\n",
    "print(check_lower('There were doors all round the hall, but they were all locked') == False)"
   ]
  },
  {
   "cell_type": "code",
   "execution_count": 44,
   "id": "c19f18c8",
   "metadata": {},
   "outputs": [
    {
     "name": "stdout",
     "output_type": "stream",
     "text": [
      "True\n"
     ]
    }
   ],
   "source": [
    "def remove_clause(str_engsentences):\n",
    "    int_index = str_engsentences.find(',')\n",
    "    str1 = str_engsentences[int_index+2:]\n",
    "    return str1.capitalize()\n",
    "print(remove_clause(\"It's being seen, but you aren't observing.\") == \"But you aren't observing.\")"
   ]
  },
  {
   "cell_type": "code",
   "execution_count": 45,
   "id": "bc34679d",
   "metadata": {},
   "outputs": [
    {
     "data": {
      "text/plain": [
       "[0, 10, 20, 30, 40, 50]"
      ]
     },
     "execution_count": 45,
     "metadata": {},
     "output_type": "execute_result"
    }
   ],
   "source": [
    "numbers = [0, 10, 20, 30, 40, 50]\n",
    "numbers"
   ]
  },
  {
   "cell_type": "code",
   "execution_count": 46,
   "id": "37b251f1",
   "metadata": {},
   "outputs": [
    {
     "data": {
      "text/plain": [
       "list"
      ]
     },
     "execution_count": 46,
     "metadata": {},
     "output_type": "execute_result"
    }
   ],
   "source": [
    "type(numbers)"
   ]
  },
  {
   "cell_type": "code",
   "execution_count": 47,
   "id": "375948db",
   "metadata": {},
   "outputs": [
    {
     "data": {
      "text/plain": [
       "['apple', 'banana', 'chelly']"
      ]
     },
     "execution_count": 47,
     "metadata": {},
     "output_type": "execute_result"
    }
   ],
   "source": [
    "fruits = ['apple', 'banana', 'chelly']\n",
    "fruits"
   ]
  },
  {
   "cell_type": "code",
   "execution_count": 48,
   "id": "3d816739",
   "metadata": {},
   "outputs": [
    {
     "data": {
      "text/plain": [
       "[10, 'apple', 20, 'banana', 30]"
      ]
     },
     "execution_count": 48,
     "metadata": {},
     "output_type": "execute_result"
    }
   ],
   "source": [
    "numbers_fruits = [10, 'apple', 20, 'banana', 30]\n",
    "numbers_fruits"
   ]
  },
  {
   "cell_type": "code",
   "execution_count": 49,
   "id": "505b361b",
   "metadata": {},
   "outputs": [
    {
     "data": {
      "text/plain": [
       "[]"
      ]
     },
     "execution_count": 49,
     "metadata": {},
     "output_type": "execute_result"
    }
   ],
   "source": [
    "empty=[]\n",
    "empty"
   ]
  },
  {
   "cell_type": "code",
   "execution_count": 50,
   "id": "e4557899",
   "metadata": {},
   "outputs": [
    {
     "data": {
      "text/plain": [
       "'c'"
      ]
     },
     "execution_count": 50,
     "metadata": {},
     "output_type": "execute_result"
    }
   ],
   "source": [
    "abcd = ['a', 'b', 'c', 'd']\n",
    "abcd[2]"
   ]
  },
  {
   "cell_type": "code",
   "execution_count": 51,
   "id": "a7bb0975",
   "metadata": {},
   "outputs": [
    {
     "data": {
      "text/plain": [
       "['a', 'b', 'hello', 'd']"
      ]
     },
     "execution_count": 51,
     "metadata": {},
     "output_type": "execute_result"
    }
   ],
   "source": [
    "abcd = ['a', 'b', 'c', 'd']\n",
    "abcd[2] = 'hello'\n",
    "abcd"
   ]
  },
  {
   "cell_type": "code",
   "execution_count": 52,
   "id": "6bf4ae46",
   "metadata": {},
   "outputs": [
    {
     "data": {
      "text/plain": [
       "['a', 'c']"
      ]
     },
     "execution_count": 52,
     "metadata": {},
     "output_type": "execute_result"
    }
   ],
   "source": [
    "abcd = ['a', 'b', 'c', 'd']\n",
    "abcd[0:4:2]"
   ]
  },
  {
   "cell_type": "code",
   "execution_count": 53,
   "id": "457a665e",
   "metadata": {},
   "outputs": [
    {
     "data": {
      "text/plain": [
       "['a', 'x', 'y', 'z', 'd']"
      ]
     },
     "execution_count": 53,
     "metadata": {},
     "output_type": "execute_result"
    }
   ],
   "source": [
    "abcd = ['a', 'b', 'c', 'd']\n",
    "abcd[1:3] = ['x', 'y', 'z']\n",
    "abcd"
   ]
  },
  {
   "cell_type": "code",
   "execution_count": 54,
   "id": "b7cf130a",
   "metadata": {},
   "outputs": [
    {
     "name": "stdout",
     "output_type": "stream",
     "text": [
      "True\n",
      "True\n"
     ]
    }
   ],
   "source": [
    "def remove_evenindex(ln):\n",
    "    ln2 = ln[1::2]\n",
    "    return ln2\n",
    "\n",
    "print(remove_evenindex(['a', 'b', 'c', 'd', 'e', 'f', 'g']) == ['b', 'd', 'f'] )\n",
    "print(remove_evenindex([1, 2, 3, 4, 5]) == [2, 4])"
   ]
  },
  {
   "cell_type": "code",
   "execution_count": 55,
   "id": "6e8d34f0",
   "metadata": {},
   "outputs": [
    {
     "data": {
      "text/plain": [
       "10"
      ]
     },
     "execution_count": 55,
     "metadata": {},
     "output_type": "execute_result"
    }
   ],
   "source": [
    "lns = [[1, 2, 3], [10, 20, 30], ['a', 'b', 'c']]\n",
    "lns[1][0]"
   ]
  },
  {
   "cell_type": "code",
   "execution_count": 56,
   "id": "192ecab6",
   "metadata": {},
   "outputs": [
    {
     "data": {
      "text/plain": [
       "['a', 'b', 'c']"
      ]
     },
     "execution_count": 56,
     "metadata": {},
     "output_type": "execute_result"
    }
   ],
   "source": [
    "lns[2]"
   ]
  },
  {
   "cell_type": "code",
   "execution_count": 57,
   "id": "ac9324de",
   "metadata": {},
   "outputs": [
    {
     "data": {
      "text/plain": [
       "[[[1, 2, 3], [10, 20, 30], ['a', 'b', 'c']],\n",
       " ['x', 1, [11, 12, 13]],\n",
       " ['y', [100, 120, 140]]]"
      ]
     },
     "execution_count": 57,
     "metadata": {},
     "output_type": "execute_result"
    }
   ],
   "source": [
    "lns2 = [lns, ['x', 1, [11, 12, 13]], ['y', [100, 120, 140]] ]\n",
    "lns2"
   ]
  },
  {
   "cell_type": "code",
   "execution_count": 58,
   "id": "222a4041",
   "metadata": {},
   "outputs": [
    {
     "data": {
      "text/plain": [
       "[[1, 2, 3], [10, 20, 30], ['a', 'b', 'c']]"
      ]
     },
     "execution_count": 58,
     "metadata": {},
     "output_type": "execute_result"
    }
   ],
   "source": [
    "lns2[0]"
   ]
  },
  {
   "cell_type": "code",
   "execution_count": 59,
   "id": "e91995cb",
   "metadata": {},
   "outputs": [
    {
     "data": {
      "text/plain": [
       "60"
      ]
     },
     "execution_count": 59,
     "metadata": {},
     "output_type": "execute_result"
    }
   ],
   "source": [
    "numbers = [30, 50, 10, 20, 40, 60]\n",
    "max(numbers)"
   ]
  },
  {
   "cell_type": "code",
   "execution_count": 60,
   "id": "71bf15e5",
   "metadata": {},
   "outputs": [
    {
     "data": {
      "text/plain": [
       "'a'"
      ]
     },
     "execution_count": 60,
     "metadata": {},
     "output_type": "execute_result"
    }
   ],
   "source": [
    "characters = ['e', 'd', 'a', 'c', 'f', 'b']\n",
    "min(characters)"
   ]
  },
  {
   "cell_type": "code",
   "execution_count": 61,
   "id": "074d2893",
   "metadata": {},
   "outputs": [
    {
     "data": {
      "text/plain": [
       "210"
      ]
     },
     "execution_count": 61,
     "metadata": {},
     "output_type": "execute_result"
    }
   ],
   "source": [
    "numbers = [30, 50, 10, 20, 40, 60]\n",
    "sum(numbers)"
   ]
  },
  {
   "cell_type": "code",
   "execution_count": 62,
   "id": "a82c756d",
   "metadata": {},
   "outputs": [
    {
     "data": {
      "text/plain": [
       "0"
      ]
     },
     "execution_count": 62,
     "metadata": {},
     "output_type": "execute_result"
    }
   ],
   "source": [
    "sum([])"
   ]
  },
  {
   "cell_type": "code",
   "execution_count": 63,
   "id": "40cf2f1f",
   "metadata": {},
   "outputs": [
    {
     "data": {
      "text/plain": [
       "[0, 10, 20, 30, 40, 50, 'a', 'b', 'c']"
      ]
     },
     "execution_count": 63,
     "metadata": {},
     "output_type": "execute_result"
    }
   ],
   "source": [
    "numbers = [0, 10, 20, 30, 40, 50]\n",
    "numbers + ['a', 'b', 'c']"
   ]
  },
  {
   "cell_type": "code",
   "execution_count": 64,
   "id": "9a70e10c",
   "metadata": {},
   "outputs": [
    {
     "data": {
      "text/plain": [
       "[0, 10, 20, 30, 40, 50, 0, 10, 20, 30, 40, 50, 0, 10, 20, 30, 40, 50]"
      ]
     },
     "execution_count": 64,
     "metadata": {},
     "output_type": "execute_result"
    }
   ],
   "source": [
    "numbers*3"
   ]
  },
  {
   "cell_type": "code",
   "execution_count": 65,
   "id": "8214b809",
   "metadata": {},
   "outputs": [
    {
     "data": {
      "text/plain": [
       "[0, 0, 0, 0, 0, 0, 0, 0, 0, 0]"
      ]
     },
     "execution_count": 65,
     "metadata": {},
     "output_type": "execute_result"
    }
   ],
   "source": [
    "zero10 = [0] * 10\n",
    "zero10"
   ]
  },
  {
   "cell_type": "code",
   "execution_count": 66,
   "id": "78a54d99",
   "metadata": {},
   "outputs": [
    {
     "data": {
      "text/plain": [
       "[[0, 1], [2, 3], [0, 1], [2, 3], [0, 1], [2, 3]]"
      ]
     },
     "execution_count": 66,
     "metadata": {},
     "output_type": "execute_result"
    }
   ],
   "source": [
    "x = [[0, 1], [2, 3]]\n",
    "y = x*3\n",
    "y"
   ]
  },
  {
   "cell_type": "code",
   "execution_count": 67,
   "id": "8ddd046f",
   "metadata": {},
   "outputs": [
    {
     "data": {
      "text/plain": [
       "[[99, 1], [2, 3], [99, 1], [2, 3], [99, 1], [2, 3]]"
      ]
     },
     "execution_count": 67,
     "metadata": {},
     "output_type": "execute_result"
    }
   ],
   "source": [
    "x[0][0] = 99\n",
    "y"
   ]
  },
  {
   "cell_type": "code",
   "execution_count": 68,
   "id": "8670d0fa",
   "metadata": {},
   "outputs": [
    {
     "name": "stdout",
     "output_type": "stream",
     "text": [
      "True True\n",
      "True True\n",
      "False False\n"
     ]
    }
   ],
   "source": [
    "a1 = 1\n",
    "print(a1 == 1 or a1 == 3 or a1 == 7, a1 in [1, 3, 7])\n",
    "a1 = 3\n",
    "print(a1 == 1 or a1 == 3 or a1 == 7, a1 in [1, 3, 7])\n",
    "a1 = 5\n",
    "print(a1 == 1 or a1 == 3 or a1 == 7, a1 in [1, 3, 7])"
   ]
  },
  {
   "cell_type": "code",
   "execution_count": 69,
   "id": "a8b6b2bb",
   "metadata": {},
   "outputs": [
    {
     "data": {
      "text/plain": [
       "False"
      ]
     },
     "execution_count": 69,
     "metadata": {},
     "output_type": "execute_result"
    }
   ],
   "source": [
    "10 not in numbers"
   ]
  },
  {
   "cell_type": "code",
   "execution_count": 70,
   "id": "a6067dcf",
   "metadata": {},
   "outputs": [
    {
     "data": {
      "text/plain": [
       "2"
      ]
     },
     "execution_count": 70,
     "metadata": {},
     "output_type": "execute_result"
    }
   ],
   "source": [
    "numbers = [0, 10, 20, 30, 40, 50]\n",
    "numbers.index(20)"
   ]
  },
  {
   "cell_type": "code",
   "execution_count": 71,
   "id": "645db17d",
   "metadata": {},
   "outputs": [
    {
     "data": {
      "text/plain": [
       "3"
      ]
     },
     "execution_count": 71,
     "metadata": {},
     "output_type": "execute_result"
    }
   ],
   "source": [
    "all20 = [20]*3\n",
    "all20.count(20) # 指定した要素のリスト内の数"
   ]
  },
  {
   "cell_type": "code",
   "execution_count": 72,
   "id": "2328a0ed",
   "metadata": {},
   "outputs": [],
   "source": [
    "numbers = [30, 50, 10, 20, 40, 60]\n",
    "numbers.sort()"
   ]
  },
  {
   "cell_type": "code",
   "execution_count": 73,
   "id": "c34b756d",
   "metadata": {},
   "outputs": [
    {
     "data": {
      "text/plain": [
       "[10, 20, 30, 40, 50, 60]"
      ]
     },
     "execution_count": 73,
     "metadata": {},
     "output_type": "execute_result"
    }
   ],
   "source": [
    "numbers"
   ]
  },
  {
   "cell_type": "code",
   "execution_count": 74,
   "id": "0907bb97",
   "metadata": {},
   "outputs": [
    {
     "data": {
      "text/plain": [
       "['a', 'b', 'c', 'd', 'e', 'f']"
      ]
     },
     "execution_count": 74,
     "metadata": {},
     "output_type": "execute_result"
    }
   ],
   "source": [
    "characters = ['e', 'd', 'a', 'c', 'f', 'b']\n",
    "characters.sort()\n",
    "characters"
   ]
  },
  {
   "cell_type": "code",
   "execution_count": 75,
   "id": "040ff9be",
   "metadata": {},
   "outputs": [
    {
     "data": {
      "text/plain": [
       "[60, 50, 40, 30, 20, 10]"
      ]
     },
     "execution_count": 75,
     "metadata": {},
     "output_type": "execute_result"
    }
   ],
   "source": [
    "numbers = [30, 50, 10, 20, 40, 60]\n",
    "numbers.sort(reverse = True)\n",
    "numbers"
   ]
  },
  {
   "cell_type": "code",
   "execution_count": 76,
   "id": "2ae8ac0e",
   "metadata": {},
   "outputs": [
    {
     "data": {
      "text/plain": [
       "[10, 20, 30, 40, 50, 60]"
      ]
     },
     "execution_count": 76,
     "metadata": {},
     "output_type": "execute_result"
    }
   ],
   "source": [
    "numbers = [30, 50, 10, 20, 40, 60]\n",
    "sorted(numbers)"
   ]
  },
  {
   "cell_type": "code",
   "execution_count": 77,
   "id": "428c51c5",
   "metadata": {},
   "outputs": [
    {
     "data": {
      "text/plain": [
       "['a', 'b', 'c', 'd', 'e', 'f']"
      ]
     },
     "execution_count": 77,
     "metadata": {},
     "output_type": "execute_result"
    }
   ],
   "source": [
    "characters = ['e', 'd', 'a', 'c', 'f', 'b']\n",
    "sorted(characters)"
   ]
  },
  {
   "cell_type": "code",
   "execution_count": 78,
   "id": "52b4dbe1",
   "metadata": {},
   "outputs": [
    {
     "data": {
      "text/plain": [
       "[60, 50, 40, 30, 20, 10]"
      ]
     },
     "execution_count": 78,
     "metadata": {},
     "output_type": "execute_result"
    }
   ],
   "source": [
    "numbers = [30, 50, 10, 20, 40, 60]\n",
    "sorted(numbers, reverse=True)"
   ]
  },
  {
   "cell_type": "code",
   "execution_count": 79,
   "id": "4c5342c4",
   "metadata": {},
   "outputs": [
    {
     "data": {
      "text/plain": [
       "[[10, 30], [20, 5], [30, 10], [40, 20]]"
      ]
     },
     "execution_count": 79,
     "metadata": {},
     "output_type": "execute_result"
    }
   ],
   "source": [
    "lns = [[20, 5], [10, 30], [40, 20], [30, 10]]\n",
    "lns.sort()\n",
    "lns"
   ]
  },
  {
   "cell_type": "code",
   "execution_count": 80,
   "id": "7ae426fe",
   "metadata": {},
   "outputs": [
    {
     "name": "stdout",
     "output_type": "stream",
     "text": [
      "sortメソッドの実行後の元のリスト: [10, 20, 30, 40, 50, 60]\n",
      "sorted関数の実行後の元のリスト: [30, 50, 10, 20, 40, 60]\n"
     ]
    }
   ],
   "source": [
    "numbers = [30, 50, 10, 20, 40, 60]\n",
    "numbers.sort()\n",
    "print('sortメソッドの実行後の元のリスト:', numbers)\n",
    "numbers = [30, 50, 10, 20, 40, 60]\n",
    "sorted(numbers)\n",
    "print('sorted関数の実行後の元のリスト:', numbers)"
   ]
  },
  {
   "cell_type": "code",
   "execution_count": 81,
   "id": "9bd9d0b0",
   "metadata": {},
   "outputs": [
    {
     "name": "stdout",
     "output_type": "stream",
     "text": [
      "sorted関数の返値: [10, 20, 30, 40, 50, 60]\n",
      "sortメソッドの返値: None\n"
     ]
    }
   ],
   "source": [
    "numbers = [30, 50, 10, 20, 40, 60]\n",
    "numbers1 = sorted(numbers)\n",
    "print('sorted関数の返値:', numbers1)\n",
    "\n",
    "numbers = [30, 50, 10, 20, 40, 60]\n",
    "numbers2 = numbers.sort()\n",
    "print('sortメソッドの返値:', numbers2)"
   ]
  },
  {
   "cell_type": "code",
   "execution_count": 1,
   "id": "5f60ec54",
   "metadata": {},
   "outputs": [
    {
     "data": {
      "text/plain": [
       "[10, 20, 30, 40, 50, 100]"
      ]
     },
     "execution_count": 1,
     "metadata": {},
     "output_type": "execute_result"
    }
   ],
   "source": [
    "numbers = [10, 20, 30, 40, 50]\n",
    "numbers.append(100)\n",
    "numbers"
   ]
  },
  {
   "cell_type": "code",
   "execution_count": 2,
   "id": "c914751b",
   "metadata": {},
   "outputs": [
    {
     "data": {
      "text/plain": [
       "[10, 20, 30, 40]"
      ]
     },
     "execution_count": 2,
     "metadata": {},
     "output_type": "execute_result"
    }
   ],
   "source": [
    "numbers1 = [10, -10, 20, 30, -20, 40, -30]\n",
    "positives = [] # 空のリストを作成する\n",
    "positives.append(numbers1[0])\n",
    "positives.append(numbers1[2])\n",
    "positives.append(numbers1[3])\n",
    "positives.append(numbers1[5])\n",
    "positives"
   ]
  },
  {
   "cell_type": "code",
   "execution_count": 3,
   "id": "7e86a99b",
   "metadata": {},
   "outputs": [
    {
     "name": "stdout",
     "output_type": "stream",
     "text": [
      "True\n"
     ]
    }
   ],
   "source": [
    "def change_domain(email, domain):\n",
    "    return '@'.join([email.split('@')[0], domain])\n",
    "\n",
    "print(change_domain('spam@utokyo-ipp.org', 'ipp.u-tokyo.ac.jp') == 'spam@ipp.u-tokyo.ac.jp')"
   ]
  },
  {
   "cell_type": "code",
   "execution_count": 5,
   "id": "25703868",
   "metadata": {},
   "outputs": [
    {
     "data": {
      "text/plain": [
       "(3, 5)"
      ]
     },
     "execution_count": 5,
     "metadata": {},
     "output_type": "execute_result"
    }
   ],
   "source": [
    "x = 3\n",
    "y = 5\n",
    "point = (x,y)\n",
    "point"
   ]
  },
  {
   "cell_type": "code",
   "execution_count": 6,
   "id": "e554a903",
   "metadata": {},
   "outputs": [
    {
     "ename": "TypeError",
     "evalue": "'tuple' object does not support item assignment",
     "output_type": "error",
     "traceback": [
      "\u001b[0;31m---------------------------------------------------------------------------\u001b[0m",
      "\u001b[0;31mTypeError\u001b[0m                                 Traceback (most recent call last)",
      "Cell \u001b[0;32mIn[6], line 2\u001b[0m\n\u001b[1;32m      1\u001b[0m numbers3 \u001b[38;5;241m=\u001b[39m (\u001b[38;5;241m1\u001b[39m, \u001b[38;5;241m2\u001b[39m, \u001b[38;5;241m3\u001b[39m)\n\u001b[0;32m----> 2\u001b[0m numbers3[\u001b[38;5;241m1\u001b[39m] \u001b[38;5;241m=\u001b[39m \u001b[38;5;241m5\u001b[39m\n",
      "\u001b[0;31mTypeError\u001b[0m: 'tuple' object does not support item assignment"
     ]
    }
   ],
   "source": [
    "numbers3 = (1, 2, 3)\n",
    "numbers3[1] = 5"
   ]
  },
  {
   "cell_type": "code",
   "execution_count": 7,
   "id": "57189abe",
   "metadata": {},
   "outputs": [
    {
     "data": {
      "text/plain": [
       "[1, 2, 3]"
      ]
     },
     "execution_count": 7,
     "metadata": {},
     "output_type": "execute_result"
    }
   ],
   "source": [
    "numbers3 = (1, 2, 3)\n",
    "list(numbers3)"
   ]
  },
  {
   "cell_type": "code",
   "execution_count": 8,
   "id": "10712de8",
   "metadata": {},
   "outputs": [
    {
     "data": {
      "text/plain": [
       "(1, 2)"
      ]
     },
     "execution_count": 8,
     "metadata": {},
     "output_type": "execute_result"
    }
   ],
   "source": [
    "numbers2 = [1, 2]\n",
    "tuple(numbers2)"
   ]
  },
  {
   "cell_type": "code",
   "execution_count": 13,
   "id": "d44a6862",
   "metadata": {},
   "outputs": [],
   "source": [
    "def reverse_totuple(ln):\n",
    "    ln.reverse()\n",
    "    tup = tuple(ln)\n",
    "    return tup\n",
    "#reverse_totuple([1, 2, 3, 4, 5])"
   ]
  },
  {
   "cell_type": "code",
   "execution_count": 14,
   "id": "12e3cf7a",
   "metadata": {},
   "outputs": [
    {
     "name": "stdout",
     "output_type": "stream",
     "text": [
      "True\n"
     ]
    }
   ],
   "source": [
    "print(reverse_totuple([1, 2, 3, 4, 5]) == (5, 4, 3, 2, 1))"
   ]
  },
  {
   "cell_type": "code",
   "execution_count": 15,
   "id": "c469b1df",
   "metadata": {},
   "outputs": [
    {
     "data": {
      "text/plain": [
       "10"
      ]
     },
     "execution_count": 15,
     "metadata": {},
     "output_type": "execute_result"
    }
   ],
   "source": [
    "numbers = [0, 10, 20, 30, 40]\n",
    "[a, b, c, d, e] = numbers\n",
    "b"
   ]
  },
  {
   "cell_type": "code",
   "execution_count": 16,
   "id": "7f2653ee",
   "metadata": {},
   "outputs": [
    {
     "data": {
      "text/plain": [
       "'l'"
      ]
     },
     "execution_count": 16,
     "metadata": {},
     "output_type": "execute_result"
    }
   ],
   "source": [
    "a, b, c, d, e = 'hello'\n",
    "d"
   ]
  },
  {
   "cell_type": "code",
   "execution_count": 17,
   "id": "eeb75ac9",
   "metadata": {},
   "outputs": [
    {
     "data": {
      "text/plain": [
       "2"
      ]
     },
     "execution_count": 17,
     "metadata": {},
     "output_type": "execute_result"
    }
   ],
   "source": [
    "numbers3 = (1, 2, 3)\n",
    "(x,y,z) = numbers3\n",
    "y"
   ]
  },
  {
   "cell_type": "code",
   "execution_count": 18,
   "id": "d5de27df",
   "metadata": {},
   "outputs": [
    {
     "name": "stdout",
     "output_type": "stream",
     "text": [
      "2\n",
      "2\n",
      "2\n",
      "2\n",
      "2\n"
     ]
    }
   ],
   "source": [
    "x,y,z = numbers3\n",
    "print(y)\n",
    "(x,y,z) = (1, 2, 3)\n",
    "print(y)\n",
    "x,y,z = (1, 2, 3)\n",
    "print(y)\n",
    "(x,y,z) = 1, 2, 3\n",
    "print(y)\n",
    "x,y,z = 1, 2, 3\n",
    "print(y)"
   ]
  },
  {
   "cell_type": "code",
   "execution_count": 19,
   "id": "7f6e6d2a",
   "metadata": {},
   "outputs": [
    {
     "name": "stdout",
     "output_type": "stream",
     "text": [
      "pen apple\n"
     ]
    }
   ],
   "source": [
    "x = 'apple'\n",
    "y = 'pen'\n",
    "x, y = y, x\n",
    "print(x, y) #w = x; x = y; y = w と同じ結果が得られる"
   ]
  },
  {
   "cell_type": "code",
   "execution_count": 20,
   "id": "e49acaca",
   "metadata": {},
   "outputs": [
    {
     "name": "stdout",
     "output_type": "stream",
     "text": [
      "For loop: 0\n",
      "For loop: 1\n",
      "For loop: 2\n"
     ]
    }
   ],
   "source": [
    "ls = [0,1,2]\n",
    "\n",
    "for value in ls:\n",
    "    print('For loop:', value)"
   ]
  },
  {
   "cell_type": "code",
   "execution_count": 21,
   "id": "54f55f4c",
   "metadata": {},
   "outputs": [
    {
     "name": "stdout",
     "output_type": "stream",
     "text": [
      "For loop: 0\n",
      "For loop: 1\n",
      "For loop: 2\n"
     ]
    }
   ],
   "source": [
    "for value in [0,1,2]:\n",
    "    print('For loop:', value)"
   ]
  },
  {
   "cell_type": "code",
   "execution_count": 26,
   "id": "d6c64684",
   "metadata": {},
   "outputs": [
    {
     "name": "stdout",
     "output_type": "stream",
     "text": [
      "True\n",
      "True\n"
     ]
    }
   ],
   "source": [
    "def sum_list(ln):\n",
    "    int_sum = 0\n",
    "    for v in ln:\n",
    "        int_sum += v\n",
    "    return int_sum\n",
    "print(sum_list([10, 20, 30]) == 60)\n",
    "print(sum_list([-1, 2, -3, 4, -5]) == -3)"
   ]
  },
  {
   "cell_type": "code",
   "execution_count": 27,
   "id": "164487e9",
   "metadata": {},
   "outputs": [
    {
     "name": "stdout",
     "output_type": "stream",
     "text": [
      "True\n"
     ]
    }
   ],
   "source": [
    "def atgc_countlist(str_atgc):\n",
    "    list_count = []\n",
    "    for value in 'ATGC':\n",
    "        int_bpcnt = str_atgc.count(value)\n",
    "        list_count.append([int_bpcnt, value])\n",
    "    return list_count\n",
    "#atgc_countlist('AAGCCCCATGGTAA')\n",
    "print(sorted(atgc_countlist('AAGCCCCATGGTAA')) == sorted([[5, 'A'], [2, 'T'], [3, 'G'], [4, 'C']]))\n"
   ]
  },
  {
   "cell_type": "code",
   "execution_count": 29,
   "id": "d1d17cd1",
   "metadata": {},
   "outputs": [
    {
     "data": {
      "text/plain": [
       "[[], []]"
      ]
     },
     "execution_count": 29,
     "metadata": {},
     "output_type": "execute_result"
    }
   ],
   "source": [
    "a = []\n",
    "b = []\n",
    "c = [a, b]\n",
    "c"
   ]
  },
  {
   "cell_type": "code",
   "execution_count": 30,
   "id": "f3996a44",
   "metadata": {},
   "outputs": [
    {
     "data": {
      "text/plain": [
       "[1]"
      ]
     },
     "execution_count": 30,
     "metadata": {},
     "output_type": "execute_result"
    }
   ],
   "source": [
    "a.append(1)\n",
    "a"
   ]
  },
  {
   "cell_type": "code",
   "execution_count": 31,
   "id": "4dd1be1c",
   "metadata": {},
   "outputs": [
    {
     "data": {
      "text/plain": [
       "[[1], []]"
      ]
     },
     "execution_count": 31,
     "metadata": {},
     "output_type": "execute_result"
    }
   ],
   "source": [
    "c"
   ]
  },
  {
   "cell_type": "code",
   "execution_count": 32,
   "id": "1c53264a",
   "metadata": {},
   "outputs": [
    {
     "data": {
      "text/plain": [
       "[[], []]"
      ]
     },
     "execution_count": 32,
     "metadata": {},
     "output_type": "execute_result"
    }
   ],
   "source": [
    "d = [b, b]\n",
    "d"
   ]
  },
  {
   "cell_type": "code",
   "execution_count": 33,
   "id": "cbdb8107",
   "metadata": {},
   "outputs": [
    {
     "data": {
      "text/plain": [
       "True"
      ]
     },
     "execution_count": 33,
     "metadata": {},
     "output_type": "execute_result"
    }
   ],
   "source": [
    "d[0] is d[1]"
   ]
  },
  {
   "cell_type": "code",
   "execution_count": 34,
   "id": "f3f03ad9",
   "metadata": {},
   "outputs": [
    {
     "data": {
      "text/plain": [
       "[1]"
      ]
     },
     "execution_count": 34,
     "metadata": {},
     "output_type": "execute_result"
    }
   ],
   "source": [
    "b.append(1)\n",
    "b\n"
   ]
  },
  {
   "cell_type": "code",
   "execution_count": 1,
   "id": "7276905c",
   "metadata": {},
   "outputs": [
    {
     "ename": "NameError",
     "evalue": "name 'd' is not defined",
     "output_type": "error",
     "traceback": [
      "\u001b[0;31m---------------------------------------------------------------------------\u001b[0m",
      "\u001b[0;31mNameError\u001b[0m                                 Traceback (most recent call last)",
      "Cell \u001b[0;32mIn[1], line 1\u001b[0m\n\u001b[0;32m----> 1\u001b[0m d\n",
      "\u001b[0;31mNameError\u001b[0m: name 'd' is not defined"
     ]
    }
   ],
   "source": [
    "d"
   ]
  },
  {
   "cell_type": "code",
   "execution_count": 2,
   "id": "717aa8ad",
   "metadata": {},
   "outputs": [
    {
     "name": "stdout",
     "output_type": "stream",
     "text": [
      "Hello World\n"
     ]
    }
   ],
   "source": [
    "def bmax(a,b):\n",
    "    if a > b:\n",
    "        return a\n",
    "    else:\n",
    "        return b\n",
    "print('Hello World')"
   ]
  },
  {
   "cell_type": "code",
   "execution_count": 6,
   "id": "a9ac0aaa",
   "metadata": {},
   "outputs": [
    {
     "name": "stdout",
     "output_type": "stream",
     "text": [
      "1\n",
      "2\n",
      "3\n"
     ]
    }
   ],
   "source": [
    "def exception3(x, y, z):\n",
    "    if x == y:\n",
    "        return z\n",
    "    elif x == z:\n",
    "        return y\n",
    "    else:\n",
    "        return x\n",
    "\n",
    "print(exception3(1, 2, 2))  # 出力は 1 のはずです\n",
    "print(exception3(4, 2, 4))  # 出力は 2 のはずです\n",
    "print(exception3(9, 3, 9))  # 出力は 3 のはずです\n"
   ]
  },
  {
   "cell_type": "code",
   "execution_count": 7,
   "id": "1689ec3d",
   "metadata": {},
   "outputs": [
    {
     "name": "stdout",
     "output_type": "stream",
     "text": [
      "1\n",
      "2\n",
      "3\n"
     ]
    }
   ],
   "source": [
    "def exception9(a):\n",
    "    x = a[0] + a[1] + a[2]\n",
    "    y = a[3] + a[4] + a[5]\n",
    "    z = a[6] + a[7] + a[8]\n",
    "    if x==y:\n",
    "        return exception3(a[6], a[7], a[8])\n",
    "    elif x==z:\n",
    "        return exception3(a[3], a[4], a[5])\n",
    "    else:\n",
    "        return exception3(a[0], a[1], a[2])\n",
    "print(exception9([1,2,2,2,2,2,2,2,2]))\n",
    "print(exception9([4,4,4,4,4,2,4,4,4]))\n",
    "print(exception9([9,9,9,9,9,9,9,9,3]))\n"
   ]
  },
  {
   "cell_type": "code",
   "execution_count": 9,
   "id": "8beb1a7b",
   "metadata": {},
   "outputs": [
    {
     "name": "stdout",
     "output_type": "stream",
     "text": [
      "x is less than zero, but x will be 0\n",
      "0\n"
     ]
    }
   ],
   "source": [
    "x = -4  # example: 3, 0, -4\n",
    "\n",
    "if x > 0:\n",
    "    print('x is greater than zero.')\n",
    "elif x < 0:\n",
    "    print('x is less than zero, but x will be 0')\n",
    "    x = 0\n",
    "else:\n",
    "    print('x is zero.')\n",
    "\n",
    "print(x)"
   ]
  },
  {
   "cell_type": "code",
   "execution_count": 11,
   "id": "ee9df17e",
   "metadata": {},
   "outputs": [
    {
     "name": "stdout",
     "output_type": "stream",
     "text": [
      "x is larger or equal to 3\n"
     ]
    }
   ],
   "source": [
    "x = 5\n",
    "if x < 1:\n",
    "    print(\"x is less than 1\")\n",
    "elif x < 2:\n",
    "    print(\"x is larger or equal to 1, and less than 2\")\n",
    "elif x < 3:\n",
    "    print(\"x is larger or equal to 2, and less than 3\")\n",
    "else:\n",
    "    print(\"x is larger or equal to 3\")\n"
   ]
  },
  {
   "cell_type": "code",
   "execution_count": 13,
   "id": "2ca46488",
   "metadata": {},
   "outputs": [
    {
     "ename": "NameError",
     "evalue": "name 'x' is not defined",
     "output_type": "error",
     "traceback": [
      "\u001b[0;31m---------------------------------------------------------------------------\u001b[0m",
      "\u001b[0;31mNameError\u001b[0m                                 Traceback (most recent call last)",
      "Cell \u001b[0;32mIn[13], line 6\u001b[0m\n\u001b[1;32m      2\u001b[0m y \u001b[38;5;241m=\u001b[39m \u001b[38;5;241m10\u001b[39m\n\u001b[1;32m      4\u001b[0m \u001b[38;5;28;01mdel\u001b[39;00m x           \u001b[38;5;66;03m# x を未定義に\u001b[39;00m\n\u001b[0;32m----> 6\u001b[0m \u001b[38;5;28;01mif\u001b[39;00m x \u001b[38;5;241m>\u001b[39m \u001b[38;5;241m5\u001b[39m \u001b[38;5;129;01mor\u001b[39;00m y \u001b[38;5;241m>\u001b[39m \u001b[38;5;241m5\u001b[39m:\n\u001b[1;32m      7\u001b[0m     \u001b[38;5;28mprint\u001b[39m(\u001b[38;5;124m\"\u001b[39m\u001b[38;5;124m'\u001b[39m\u001b[38;5;124mx\u001b[39m\u001b[38;5;124m'\u001b[39m\u001b[38;5;124m or \u001b[39m\u001b[38;5;124m'\u001b[39m\u001b[38;5;124my\u001b[39m\u001b[38;5;124m'\u001b[39m\u001b[38;5;124m is larger than 5\u001b[39m\u001b[38;5;124m\"\u001b[39m)\n",
      "\u001b[0;31mNameError\u001b[0m: name 'x' is not defined"
     ]
    }
   ],
   "source": [
    "x = 0          # del x のエラーを抑制するため\n",
    "y = 10\n",
    "\n",
    "del x           # x を未定義に\n",
    "\n",
    "if x > 5 or y > 5:\n",
    "    print(\"'x' or 'y' is larger than 5\")"
   ]
  },
  {
   "cell_type": "code",
   "execution_count": 14,
   "id": "7dceedcb",
   "metadata": {},
   "outputs": [
    {
     "name": "stdout",
     "output_type": "stream",
     "text": [
      "'x' or 'y' is larger than 5\n"
     ]
    }
   ],
   "source": [
    "x = 10\n",
    "y = 10          # del y のエラーを抑制するため\n",
    "\n",
    "del y           # y を未定義に\n",
    "\n",
    "if x > 5 or y > 5:\n",
    "    print(\"'x' or 'y' is larger than 5\")"
   ]
  },
  {
   "cell_type": "code",
   "execution_count": 1,
   "id": "12386c30",
   "metadata": {},
   "outputs": [
    {
     "data": {
      "text/plain": [
       "{'apple': 3, 'pen': 5}"
      ]
     },
     "execution_count": 1,
     "metadata": {},
     "output_type": "execute_result"
    }
   ],
   "source": [
    "ppap = {\"apple\": 3, \"pen\": 5}\n",
    "ppap"
   ]
  },
  {
   "cell_type": "code",
   "execution_count": 2,
   "id": "b8f780e0",
   "metadata": {},
   "outputs": [
    {
     "data": {
      "text/plain": [
       "dict"
      ]
     },
     "execution_count": 2,
     "metadata": {},
     "output_type": "execute_result"
    }
   ],
   "source": [
    "type(ppap)"
   ]
  },
  {
   "cell_type": "code",
   "execution_count": 6,
   "id": "17bceec0",
   "metadata": {},
   "outputs": [
    {
     "data": {
      "text/plain": [
       "{'apple': 10, 'pen': 5, 'pinapple': 7}"
      ]
     },
     "execution_count": 6,
     "metadata": {},
     "output_type": "execute_result"
    }
   ],
   "source": [
    "ppap[\"apple\"] = 10\n",
    "ppap[\"pinapple\"] = 7\n",
    "ppap"
   ]
  },
  {
   "cell_type": "code",
   "execution_count": 7,
   "id": "acad7d2d",
   "metadata": {},
   "outputs": [
    {
     "data": {
      "text/plain": [
       "True"
      ]
     },
     "execution_count": 7,
     "metadata": {},
     "output_type": "execute_result"
    }
   ],
   "source": [
    "ppap = {'apple': 3, 'pen': 5}\n",
    "'apple' in ppap"
   ]
  },
  {
   "cell_type": "code",
   "execution_count": 8,
   "id": "19c37cd0",
   "metadata": {},
   "outputs": [
    {
     "data": {
      "text/plain": [
       "2"
      ]
     },
     "execution_count": 8,
     "metadata": {},
     "output_type": "execute_result"
    }
   ],
   "source": [
    "ppap = {'apple': 3, 'pen': 5}\n",
    "len(ppap)"
   ]
  },
  {
   "cell_type": "code",
   "execution_count": 9,
   "id": "88d3f65d",
   "metadata": {},
   "outputs": [
    {
     "data": {
      "text/plain": [
       "2"
      ]
     },
     "execution_count": 9,
     "metadata": {},
     "output_type": "execute_result"
    }
   ],
   "source": [
    "ppap = {'apple': 3, 'pen': 5}\n",
    "len(ppap)"
   ]
  },
  {
   "cell_type": "code",
   "execution_count": 10,
   "id": "d26326dd",
   "metadata": {},
   "outputs": [
    {
     "data": {
      "text/plain": [
       "{}"
      ]
     },
     "execution_count": 10,
     "metadata": {},
     "output_type": "execute_result"
    }
   ],
   "source": [
    "empty_d = {}\n",
    "empty_d"
   ]
  },
  {
   "cell_type": "code",
   "execution_count": 11,
   "id": "a35728c3",
   "metadata": {},
   "outputs": [
    {
     "name": "stdout",
     "output_type": "stream",
     "text": [
      "True\n"
     ]
    }
   ],
   "source": [
    "def reverse_lookup(list1):\n",
    "    dic1 = {}  # 空の辞書を作成する\n",
    "    for value in list1:\n",
    "        dic1[value] = list1.index(value)\n",
    "    return dic1\n",
    "\n",
    "print(reverse_lookup(['apple', 'pen', 'orange']) == {'apple': 0, 'orange': 2, 'pen': 1})\n",
    "#reverse_lookup(['apple', 'pen', 'orange'])"
   ]
  },
  {
   "cell_type": "code",
   "execution_count": 15,
   "id": "26456e56",
   "metadata": {},
   "outputs": [
    {
     "name": "stdout",
     "output_type": "stream",
     "text": [
      "キーappleに対応する値 =  3\n",
      "キーorangeに対応する値 =  None\n",
      "キーorangeに対応する値（エラー） =  None\n"
     ]
    }
   ],
   "source": [
    "ppap = {\"apple\": 3, \"pen\": 5}\n",
    "print('キーappleに対応する値 = ', ppap.get('apple'))\n",
    "print('キーorangeに対応する値 = ', ppap.get('orange'))\n",
    "print('キーorangeに対応する値（エラー） = ', ppap.get('orange'))"
   ]
  },
  {
   "cell_type": "code",
   "execution_count": 16,
   "id": "29bacece",
   "metadata": {},
   "outputs": [
    {
     "name": "stdout",
     "output_type": "stream",
     "text": [
      "キーappleに対応する値 =  3\n",
      "キーorangeに対応する値 =  -1\n"
     ]
    }
   ],
   "source": [
    "ppap = {'apple' : 3, 'pen' : 5}\n",
    "print('キーappleに対応する値 = ', ppap.get('apple', -1))\n",
    "print('キーorangeに対応する値 = ', ppap.get('orange', -1))"
   ]
  },
  {
   "cell_type": "code",
   "execution_count": 17,
   "id": "99a8c2e6",
   "metadata": {},
   "outputs": [
    {
     "name": "stdout",
     "output_type": "stream",
     "text": [
      "キーappleに対応する値 =  3\n",
      "setdefault(\"apple\", 7)を実行後の辞書 =  {'apple': 3, 'pen': 5}\n",
      "キーorangeに対応する値 =  7\n",
      "setdefault(\"orange\", 7)を実行後の辞書 =  {'apple': 3, 'pen': 5, 'orange': 7}\n"
     ]
    }
   ],
   "source": [
    "ppap = {'apple' : 3, 'pen' : 5}\n",
    "print('キーappleに対応する値 = ', ppap.setdefault('apple', 7))\n",
    "print('setdefault(\"apple\", 7)を実行後の辞書 = ', ppap)\n",
    "print('キーorangeに対応する値 = ', ppap.setdefault('orange', 7))\n",
    "print('setdefault(\"orange\", 7)を実行後の辞書 = ', ppap)"
   ]
  },
  {
   "cell_type": "code",
   "execution_count": 18,
   "id": "a94f80b4",
   "metadata": {},
   "outputs": [
    {
     "name": "stdout",
     "output_type": "stream",
     "text": [
      "キーappleに対応する値 =  3\n",
      "実行後の辞書 =  {'apple': 3, 'pen': 5}\n",
      "キーorangeに対応する値 =  7\n",
      "実行後の辞書 =  {'apple': 3, 'pen': 5, 'orange': 7}\n"
     ]
    }
   ],
   "source": [
    "ppap = {'apple' : 3, 'pen' : 5}\n",
    "if 'apple' not in ppap:\n",
    "    ppap['apple'] = 7\n",
    "print('キーappleに対応する値 = ', ppap['apple'])\n",
    "print('実行後の辞書 = ', ppap)\n",
    "if 'orange' not in ppap:\n",
    "    ppap['orange'] = 7\n",
    "print('キーorangeに対応する値 = ', ppap['orange'])\n",
    "print('実行後の辞書 = ', ppap)"
   ]
  },
  {
   "cell_type": "code",
   "execution_count": 19,
   "id": "51f51e9d",
   "metadata": {},
   "outputs": [
    {
     "name": "stdout",
     "output_type": "stream",
     "text": [
      "5\n",
      "{'apple': 3}\n"
     ]
    }
   ],
   "source": [
    "ppap = {'apple' : 3, 'pen' : 5}\n",
    "print(ppap.pop('pen'))\n",
    "print(ppap)"
   ]
  },
  {
   "cell_type": "code",
   "execution_count": 20,
   "id": "a9fb000c",
   "metadata": {},
   "outputs": [
    {
     "data": {
      "text/plain": [
       "{}"
      ]
     },
     "execution_count": 20,
     "metadata": {},
     "output_type": "execute_result"
    }
   ],
   "source": [
    "ppap = {'apple' : 3, 'pen' : 5}\n",
    "ppap.clear()\n",
    "ppap"
   ]
  },
  {
   "cell_type": "code",
   "execution_count": 21,
   "id": "46bba7d4",
   "metadata": {},
   "outputs": [
    {
     "data": {
      "text/plain": [
       "['apple', 'pen']"
      ]
     },
     "execution_count": 21,
     "metadata": {},
     "output_type": "execute_result"
    }
   ],
   "source": [
    "ppap = {'apple' : 3, 'pen' : 5}\n",
    "list(ppap.keys())"
   ]
  },
  {
   "cell_type": "code",
   "execution_count": 22,
   "id": "f248ad47",
   "metadata": {},
   "outputs": [
    {
     "data": {
      "text/plain": [
       "[3, 5]"
      ]
     },
     "execution_count": 22,
     "metadata": {},
     "output_type": "execute_result"
    }
   ],
   "source": [
    "list(ppap.values())"
   ]
  },
  {
   "cell_type": "code",
   "execution_count": 23,
   "id": "ade97015",
   "metadata": {},
   "outputs": [
    {
     "data": {
      "text/plain": [
       "[('apple', 3), ('pen', 5)]"
      ]
     },
     "execution_count": 23,
     "metadata": {},
     "output_type": "execute_result"
    }
   ],
   "source": [
    "list(ppap.items())"
   ]
  },
  {
   "cell_type": "code",
   "execution_count": 24,
   "id": "83cabbd6",
   "metadata": {},
   "outputs": [
    {
     "name": "stdout",
     "output_type": "stream",
     "text": [
      "{'apple': 3, 'pen': 5, 'orange': 7, 'banana': 9}\n",
      "{'apple': 3, 'pen': 5, 'orange': 7}\n"
     ]
    }
   ],
   "source": [
    "ppap = {'apple': 3, 'pen': 5, 'orange': 7}\n",
    "ppap2 = ppap.copy()\n",
    "ppap['banana'] = 9\n",
    "print(ppap)\n",
    "print(ppap2)"
   ]
  },
  {
   "cell_type": "code",
   "execution_count": 25,
   "id": "18ba9f26",
   "metadata": {},
   "outputs": [
    {
     "name": "stdout",
     "output_type": "stream",
     "text": [
      "['apple', 'pen', 'orange']\n",
      "[3, 5, 7]\n",
      "[('apple', 3), ('pen', 5), ('orange', 7)]\n",
      "['apple', 'pen', 'orange', 'kiwi']\n",
      "[3, 5, 7, 9]\n",
      "[('apple', 3), ('pen', 5), ('orange', 7), ('kiwi', 9)]\n"
     ]
    }
   ],
   "source": [
    "ppap = {'apple': 3, 'pen': 5, 'orange': 7}\n",
    "ks = ppap.keys()\n",
    "vs = ppap.values()\n",
    "itms = ppap.items()\n",
    "print(list(ks))\n",
    "print(list(vs))\n",
    "print(list(itms))\n",
    "ppap['kiwi'] = 9\n",
    "print(list(ks))\n",
    "print(list(vs))\n",
    "print(list(itms))"
   ]
  },
  {
   "cell_type": "code",
   "execution_count": 26,
   "id": "7b061e59",
   "metadata": {},
   "outputs": [
    {
     "name": "stdout",
     "output_type": "stream",
     "text": [
      "[10, 20, 40]\n",
      "20\n"
     ]
    }
   ],
   "source": [
    "numbers = {'dozens': [10, 20, 40], 'hundreds': [100, 101, 120, 140]}\n",
    "print(numbers['dozens'])\n",
    "print(numbers['dozens'][1])"
   ]
  },
  {
   "cell_type": "code",
   "execution_count": 29,
   "id": "0748d36e",
   "metadata": {},
   "outputs": [
    {
     "name": "stdout",
     "output_type": "stream",
     "text": [
      "True\n"
     ]
    }
   ],
   "source": [
    "def handle_collision(dic1, str1):\n",
    "    if dic1.get(len(str1)) is None:\n",
    "        ls = [str1]\n",
    "    else:\n",
    "        ls = dic1[len(str1)]\n",
    "        ls.append(str1)\n",
    "    dic1[len(str1)] = ls\n",
    "    \n",
    "dic1_orig = {3: ['ham', 'egg'], 6: ['coffee', 'brandy'], 9: ['port wine'], 15: ['curried chicken']}\n",
    "dic1_result = {3: ['ham', 'egg', 'tea'], 6: ['coffee', 'brandy'], 9: ['port wine'], 15: ['curried chicken']}\n",
    "handle_collision(dic1_orig, 'tea')\n",
    "print(dic1_orig == dic1_result)\n",
    "#handle_collision({3: ['ham', 'egg'], 6: ['coffee', 'brandy'], 9: ['port wine'], 15: ['curried chicken']}, 'tea')"
   ]
  },
  {
   "cell_type": "code",
   "execution_count": null,
   "id": "5b78483a",
   "metadata": {},
   "outputs": [],
   "source": []
  }
 ],
 "metadata": {
  "kernelspec": {
   "display_name": "Python 3 (ipykernel)",
   "language": "python",
   "name": "python3"
  },
  "language_info": {
   "codemirror_mode": {
    "name": "ipython",
    "version": 3
   },
   "file_extension": ".py",
   "mimetype": "text/x-python",
   "name": "python",
   "nbconvert_exporter": "python",
   "pygments_lexer": "ipython3",
   "version": "3.11.7"
  }
 },
 "nbformat": 4,
 "nbformat_minor": 5
}
