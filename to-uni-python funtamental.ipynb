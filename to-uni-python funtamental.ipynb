{
 "cells": [
  {
   "cell_type": "code",
   "execution_count": 1,
   "id": "34fa0504",
   "metadata": {},
   "outputs": [
    {
     "data": {
      "text/plain": [
       "5"
      ]
     },
     "execution_count": 1,
     "metadata": {},
     "output_type": "execute_result"
    }
   ],
   "source": [
    "7-2"
   ]
  },
  {
   "cell_type": "code",
   "execution_count": 2,
   "id": "0ad7b4b4",
   "metadata": {},
   "outputs": [
    {
     "data": {
      "text/plain": [
       "7.0"
      ]
     },
     "execution_count": 2,
     "metadata": {},
     "output_type": "execute_result"
    }
   ],
   "source": [
    "7/1"
   ]
  },
  {
   "cell_type": "code",
   "execution_count": 3,
   "id": "36bbedc9",
   "metadata": {},
   "outputs": [
    {
     "data": {
      "text/plain": [
       "7"
      ]
     },
     "execution_count": 3,
     "metadata": {},
     "output_type": "execute_result"
    }
   ],
   "source": [
    "7//1\n"
   ]
  },
  {
   "cell_type": "code",
   "execution_count": 4,
   "id": "60015952",
   "metadata": {},
   "outputs": [
    {
     "data": {
      "text/plain": [
       "49"
      ]
     },
     "execution_count": 4,
     "metadata": {},
     "output_type": "execute_result"
    }
   ],
   "source": [
    "7**2"
   ]
  },
  {
   "cell_type": "code",
   "execution_count": 5,
   "id": "91ed3b29",
   "metadata": {},
   "outputs": [
    {
     "data": {
      "text/plain": [
       "49.0"
      ]
     },
     "execution_count": 5,
     "metadata": {},
     "output_type": "execute_result"
    }
   ],
   "source": [
    "7**2.0"
   ]
  },
  {
   "cell_type": "code",
   "execution_count": 6,
   "id": "fcafbdf2",
   "metadata": {},
   "outputs": [
    {
     "ename": "NameError",
     "evalue": "name 'init' is not defined",
     "output_type": "error",
     "traceback": [
      "\u001b[0;31m---------------------------------------------------------------------------\u001b[0m",
      "\u001b[0;31mNameError\u001b[0m                                 Traceback (most recent call last)",
      "Cell \u001b[0;32mIn[6], line 1\u001b[0m\n\u001b[0;32m----> 1\u001b[0m init(\u001b[38;5;241m2.8\u001b[39m)\n",
      "\u001b[0;31mNameError\u001b[0m: name 'init' is not defined"
     ]
    }
   ],
   "source": [
    "init(2.8)"
   ]
  },
  {
   "cell_type": "code",
   "execution_count": 7,
   "id": "25cb2dbe",
   "metadata": {},
   "outputs": [
    {
     "data": {
      "text/plain": [
       "2"
      ]
     },
     "execution_count": 7,
     "metadata": {},
     "output_type": "execute_result"
    }
   ],
   "source": [
    "int(2.8)"
   ]
  },
  {
   "cell_type": "code",
   "execution_count": 8,
   "id": "c3b209cb",
   "metadata": {},
   "outputs": [
    {
     "data": {
      "text/plain": [
       "1.5"
      ]
     },
     "execution_count": 8,
     "metadata": {},
     "output_type": "execute_result"
    }
   ],
   "source": [
    "18/6/2"
   ]
  },
  {
   "cell_type": "code",
   "execution_count": 9,
   "id": "4e42fed2",
   "metadata": {},
   "outputs": [
    {
     "data": {
      "text/plain": [
       "49"
      ]
     },
     "execution_count": 9,
     "metadata": {},
     "output_type": "execute_result"
    }
   ],
   "source": [
    "7 **2"
   ]
  },
  {
   "cell_type": "code",
   "execution_count": 10,
   "id": "8a7f0e4b",
   "metadata": {},
   "outputs": [
    {
     "data": {
      "text/plain": [
       "3.3333333333333335"
      ]
     },
     "execution_count": 10,
     "metadata": {},
     "output_type": "execute_result"
    }
   ],
   "source": [
    "10/3"
   ]
  },
  {
   "cell_type": "code",
   "execution_count": 11,
   "id": "c4b15919",
   "metadata": {},
   "outputs": [
    {
     "data": {
      "text/plain": [
       "1.4142135623730951"
      ]
     },
     "execution_count": 11,
     "metadata": {},
     "output_type": "execute_result"
    }
   ],
   "source": [
    "import math\n",
    "math.sqrt(2)"
   ]
  },
  {
   "cell_type": "code",
   "execution_count": 12,
   "id": "374a1683",
   "metadata": {},
   "outputs": [
    {
     "data": {
      "text/plain": [
       "3.141592653589793"
      ]
     },
     "execution_count": 12,
     "metadata": {},
     "output_type": "execute_result"
    }
   ],
   "source": [
    "math.pi"
   ]
  },
  {
   "cell_type": "code",
   "execution_count": 14,
   "id": "6db4e39a",
   "metadata": {},
   "outputs": [
    {
     "data": {
      "text/plain": [
       "1.618033988749895"
      ]
     },
     "execution_count": 14,
     "metadata": {},
     "output_type": "execute_result"
    }
   ],
   "source": [
    "(math.sqrt(5) + 1) /2"
   ]
  },
  {
   "cell_type": "code",
   "execution_count": 15,
   "id": "a58869fe",
   "metadata": {},
   "outputs": [],
   "source": [
    "h = 188"
   ]
  },
  {
   "cell_type": "code",
   "execution_count": 16,
   "id": "9e78a486",
   "metadata": {},
   "outputs": [
    {
     "data": {
      "text/plain": [
       "188"
      ]
     },
     "execution_count": 16,
     "metadata": {},
     "output_type": "execute_result"
    }
   ],
   "source": [
    "h"
   ]
  },
  {
   "cell_type": "code",
   "execution_count": 17,
   "id": "77f22c9b",
   "metadata": {},
   "outputs": [],
   "source": [
    "w = 104"
   ]
  },
  {
   "cell_type": "code",
   "execution_count": 18,
   "id": "c046db7f",
   "metadata": {},
   "outputs": [
    {
     "data": {
      "text/plain": [
       "29.425079221367138"
      ]
     },
     "execution_count": 18,
     "metadata": {},
     "output_type": "execute_result"
    }
   ],
   "source": [
    "w / (h/100) ** 2"
   ]
  },
  {
   "cell_type": "code",
   "execution_count": 19,
   "id": "315c15a8",
   "metadata": {},
   "outputs": [
    {
     "data": {
      "text/plain": [
       "94"
      ]
     },
     "execution_count": 19,
     "metadata": {},
     "output_type": "execute_result"
    }
   ],
   "source": [
    "w -= 10\n",
    "w"
   ]
  },
  {
   "cell_type": "code",
   "execution_count": 20,
   "id": "245f0f7b",
   "metadata": {},
   "outputs": [
    {
     "data": {
      "text/plain": [
       "22.22222222222222"
      ]
     },
     "execution_count": 20,
     "metadata": {},
     "output_type": "execute_result"
    }
   ],
   "source": [
    "def mbi(height, weight):\n",
    "    return weight / (height/100) ** 2\n",
    "mbi(180, 72)"
   ]
  },
  {
   "cell_type": "code",
   "execution_count": 21,
   "id": "010218aa",
   "metadata": {},
   "outputs": [
    {
     "data": {
      "text/plain": [
       "25.652173913043477"
      ]
     },
     "execution_count": 21,
     "metadata": {},
     "output_type": "execute_result"
    }
   ],
   "source": [
    "def felt_air_temperature(temperature, humidity):\n",
    "    return temperature - 1 / 2.3 * (temperature - 10) * (0.8 - humidity / 100)\n",
    "felt_air_temperature(28, 50)"
   ]
  },
  {
   "cell_type": "code",
   "execution_count": 27,
   "id": "d260ae7a",
   "metadata": {},
   "outputs": [],
   "source": [
    "def ft_to_cm(f , i):\n",
    "    feet_to_cm = f * 30.48\n",
    "    inches_to_cm = i * 2.54\n",
    "    return feet_to_cm + inches_to_cm\n",
    "\n",
    "assert round(ft_to_cm(5, 2) - 157.48, 6) == 0\n",
    "assert round(ft_to_cm(6, 5) - 195.58, 6) == 0"
   ]
  },
  {
   "cell_type": "code",
   "execution_count": 28,
   "id": "12f94221",
   "metadata": {},
   "outputs": [],
   "source": [
    "def quadratic(a, b, c, x):\n",
    "    return a * x**2 + b * x + c\n",
    "\n",
    "assert quadratic(1, 2, 1, 3) == 16\n",
    "assert quadratic(1, -5, -2, 7) == 12"
   ]
  },
  {
   "cell_type": "code",
   "execution_count": 29,
   "id": "b8d38ddb",
   "metadata": {},
   "outputs": [
    {
     "data": {
      "text/plain": [
       "6.0"
      ]
     },
     "execution_count": 29,
     "metadata": {},
     "output_type": "execute_result"
    }
   ],
   "source": [
    "import math\n",
    "\n",
    "def heron(a,b,c):\n",
    "    s = 0.5*(a+b+c)\n",
    "    return math.sqrt(s * (s-a) * (s-b) * (s-c))\n",
    "\n",
    "heron(3,4,5)"
   ]
  },
  {
   "cell_type": "code",
   "execution_count": 30,
   "id": "57fba54a",
   "metadata": {},
   "outputs": [
    {
     "name": "stdout",
     "output_type": "stream",
     "text": [
      "The value of s is 1.5\n"
     ]
    },
    {
     "data": {
      "text/plain": [
       "0.4330127018922193"
      ]
     },
     "execution_count": 30,
     "metadata": {},
     "output_type": "execute_result"
    }
   ],
   "source": [
    "def heron(a,b,c):\n",
    "    s = 0.5*(a+b+c)\n",
    "    print('The value of s is', s)\n",
    "    return math.sqrt(s * (s-a) * (s-b) * (s-c))\n",
    "\n",
    "heron(1,1,1)"
   ]
  },
  {
   "cell_type": "code",
   "execution_count": 33,
   "id": "ee494706",
   "metadata": {},
   "outputs": [
    {
     "data": {
      "text/plain": [
       "('shogo', 20)"
      ]
     },
     "execution_count": 33,
     "metadata": {},
     "output_type": "execute_result"
    }
   ],
   "source": [
    "def person(name, age):\n",
    "    return name, age\n",
    "      \n",
    "\n",
    "person('shogo', 20)"
   ]
  },
  {
   "cell_type": "code",
   "execution_count": 36,
   "id": "2ecddb1e",
   "metadata": {},
   "outputs": [],
   "source": [
    "def qe_disc(a, b, c):\n",
    "    return b**2 - 4*a*c\n",
    "\n",
    "def qe_solution1(a, b, c):\n",
    "    D = qe_disc(a, b, c)\n",
    "    return (-b - D**0.5) / (2*a)\n",
    "\n",
    "def qe_solution2(a, b, c):\n",
    "    D = qe_disc(a, b, c)\n",
    "    return (-b + D**0.5) / (2*a)\n",
    "\n",
    "assert qe_disc(1, -2, 1) == 0\n",
    "assert qe_disc(1, -5, 6) == 1\n",
    "assert round(qe_solution1(1, -2, 1) - 1, 6) == 0\n",
    "assert round(qe_solution2(1, -2, 1) - 1, 6) == 0\n",
    "assert round(qe_solution1(1, -5, 6) - 2, 6) == 0\n",
    "assert round(qe_solution2(1, -5, 6) - 3, 6) == 0"
   ]
  },
  {
   "cell_type": "code",
   "execution_count": 37,
   "id": "b514b760",
   "metadata": {},
   "outputs": [
    {
     "data": {
      "text/plain": [
       "1019.2"
      ]
     },
     "execution_count": 37,
     "metadata": {},
     "output_type": "execute_result"
    }
   ],
   "source": [
    "g = 9.8\n",
    "def force(m):\n",
    "    return m*g\n",
    "\n",
    "force(104)"
   ]
  },
  {
   "cell_type": "code",
   "execution_count": 38,
   "id": "390f29a8",
   "metadata": {},
   "outputs": [
    {
     "data": {
      "text/plain": [
       "3"
      ]
     },
     "execution_count": 38,
     "metadata": {},
     "output_type": "execute_result"
    }
   ],
   "source": [
    "a = 10\n",
    "def foo():\n",
    "    return a\n",
    "def bar():\n",
    "    a = 3\n",
    "    return a\n",
    "\n",
    "foo()\n",
    "bar()"
   ]
  },
  {
   "cell_type": "code",
   "execution_count": 39,
   "id": "b3eeca12",
   "metadata": {},
   "outputs": [
    {
     "data": {
      "text/plain": [
       "10"
      ]
     },
     "execution_count": 39,
     "metadata": {},
     "output_type": "execute_result"
    }
   ],
   "source": [
    "foo()"
   ]
  },
  {
   "cell_type": "code",
   "execution_count": 40,
   "id": "0e4a8bbc",
   "metadata": {},
   "outputs": [
    {
     "data": {
      "text/plain": [
       "3"
      ]
     },
     "execution_count": 40,
     "metadata": {},
     "output_type": "execute_result"
    }
   ],
   "source": [
    "bar(\n",
    ")"
   ]
  },
  {
   "cell_type": "code",
   "execution_count": 41,
   "id": "116ed65f",
   "metadata": {},
   "outputs": [
    {
     "data": {
      "text/plain": [
       "10"
      ]
     },
     "execution_count": 41,
     "metadata": {},
     "output_type": "execute_result"
    }
   ],
   "source": [
    "a"
   ]
  },
  {
   "cell_type": "code",
   "execution_count": 42,
   "id": "d5452b39",
   "metadata": {},
   "outputs": [],
   "source": [
    "a = 20"
   ]
  },
  {
   "cell_type": "code",
   "execution_count": 43,
   "id": "0c1cad9c",
   "metadata": {},
   "outputs": [
    {
     "data": {
      "text/plain": [
       "20"
      ]
     },
     "execution_count": 43,
     "metadata": {},
     "output_type": "execute_result"
    }
   ],
   "source": [
    "foo()"
   ]
  },
  {
   "cell_type": "code",
   "execution_count": 44,
   "id": "8ed9e245",
   "metadata": {},
   "outputs": [],
   "source": [
    "def boo(a):\n",
    "    return a"
   ]
  },
  {
   "cell_type": "code",
   "execution_count": 45,
   "id": "13c22d19",
   "metadata": {},
   "outputs": [
    {
     "data": {
      "text/plain": [
       "5"
      ]
     },
     "execution_count": 45,
     "metadata": {},
     "output_type": "execute_result"
    }
   ],
   "source": [
    "boo(5)"
   ]
  },
  {
   "cell_type": "code",
   "execution_count": 46,
   "id": "ab854ec9",
   "metadata": {},
   "outputs": [
    {
     "data": {
      "text/plain": [
       "20"
      ]
     },
     "execution_count": 46,
     "metadata": {},
     "output_type": "execute_result"
    }
   ],
   "source": [
    "a"
   ]
  },
  {
   "cell_type": "code",
   "execution_count": 1,
   "id": "f9c7f8e4",
   "metadata": {},
   "outputs": [],
   "source": [
    "def bmax(a,b):\n",
    "    if a > b:\n",
    "        return a\n",
    "    else:\n",
    "        return b"
   ]
  },
  {
   "cell_type": "code",
   "execution_count": 2,
   "id": "e4b43fdb",
   "metadata": {},
   "outputs": [
    {
     "data": {
      "text/plain": [
       "5"
      ]
     },
     "execution_count": 2,
     "metadata": {},
     "output_type": "execute_result"
    }
   ],
   "source": [
    "bmax(3,5)"
   ]
  },
  {
   "cell_type": "code",
   "execution_count": 3,
   "id": "a3946dcb",
   "metadata": {},
   "outputs": [
    {
     "data": {
      "text/plain": [
       "True"
      ]
     },
     "execution_count": 3,
     "metadata": {},
     "output_type": "execute_result"
    }
   ],
   "source": [
    "1 < 2 < 3"
   ]
  },
  {
   "cell_type": "code",
   "execution_count": 4,
   "id": "c7eff24d",
   "metadata": {},
   "outputs": [
    {
     "data": {
      "text/plain": [
       "True"
      ]
     },
     "execution_count": 4,
     "metadata": {},
     "output_type": "execute_result"
    }
   ],
   "source": [
    "3 >= 2 < 5"
   ]
  },
  {
   "cell_type": "code",
   "execution_count": 5,
   "id": "c84a1317",
   "metadata": {},
   "outputs": [],
   "source": [
    "def absolute(x):\n",
    "    if x < 0:\n",
    "        return -x\n",
    "    else:\n",
    "        return x"
   ]
  },
  {
   "cell_type": "code",
   "execution_count": 6,
   "id": "03544767",
   "metadata": {},
   "outputs": [],
   "source": [
    "assert absolute(5) == 5\n",
    "assert absolute(-5) == 5\n",
    "assert absolute(0) == 0"
   ]
  },
  {
   "cell_type": "code",
   "execution_count": 7,
   "id": "414d5188",
   "metadata": {},
   "outputs": [],
   "source": [
    "def sign(x):\n",
    "    if x > 0:\n",
    "        return 1\n",
    "    elif x == 0:\n",
    "        return 0\n",
    "    else:\n",
    "        return -1"
   ]
  },
  {
   "cell_type": "code",
   "execution_count": 8,
   "id": "1683cf8d",
   "metadata": {},
   "outputs": [],
   "source": [
    "assert sign(5) == 1\n",
    "assert sign(-5) == -1\n",
    "assert sign(0) == 0"
   ]
  },
  {
   "cell_type": "code",
   "execution_count": 9,
   "id": "3fd19264",
   "metadata": {},
   "outputs": [
    {
     "data": {
      "text/plain": [
       "True"
      ]
     },
     "execution_count": 9,
     "metadata": {},
     "output_type": "execute_result"
    }
   ],
   "source": [
    "x = 3\n",
    "x > 1"
   ]
  },
  {
   "cell_type": "code",
   "execution_count": 10,
   "id": "f7096f86",
   "metadata": {},
   "outputs": [
    {
     "data": {
      "text/plain": [
       "True"
      ]
     },
     "execution_count": 10,
     "metadata": {},
     "output_type": "execute_result"
    }
   ],
   "source": [
    "def is_even(x):\n",
    "    return x%2 == 0\n",
    "\n",
    "is_even(2)"
   ]
  },
  {
   "cell_type": "code",
   "execution_count": 11,
   "id": "a6f67fba",
   "metadata": {},
   "outputs": [],
   "source": [
    "def is_odd(x):\n",
    "    if is_even(x):\n",
    "        return False\n",
    "    else:\n",
    "        return True\n",
    "    \n",
    "    is_old(2)"
   ]
  },
  {
   "cell_type": "code",
   "execution_count": 12,
   "id": "2131a0db",
   "metadata": {},
   "outputs": [
    {
     "ename": "NameError",
     "evalue": "name 'is_old' is not defined",
     "output_type": "error",
     "traceback": [
      "\u001b[0;31m---------------------------------------------------------------------------\u001b[0m",
      "\u001b[0;31mNameError\u001b[0m                                 Traceback (most recent call last)",
      "Cell \u001b[0;32mIn[12], line 1\u001b[0m\n\u001b[0;32m----> 1\u001b[0m is_old(\u001b[38;5;241m2\u001b[39m)\n",
      "\u001b[0;31mNameError\u001b[0m: name 'is_old' is not defined"
     ]
    }
   ],
   "source": [
    "is_old(2)"
   ]
  },
  {
   "cell_type": "code",
   "execution_count": 13,
   "id": "5ead7fcf",
   "metadata": {},
   "outputs": [
    {
     "name": "stdout",
     "output_type": "stream",
     "text": [
      "NG\n"
     ]
    }
   ],
   "source": [
    "if None:\n",
    "    print('OK')\n",
    "else:\n",
    "    print('NG')"
   ]
  },
  {
   "cell_type": "code",
   "execution_count": 14,
   "id": "226f85f7",
   "metadata": {},
   "outputs": [
    {
     "name": "stdout",
     "output_type": "stream",
     "text": [
      "NG\n"
     ]
    }
   ],
   "source": [
    "if 0:\n",
    "    print('OK')\n",
    "else:\n",
    "    print('NG')"
   ]
  },
  {
   "cell_type": "code",
   "execution_count": 15,
   "id": "395ae405",
   "metadata": {},
   "outputs": [
    {
     "name": "stdout",
     "output_type": "stream",
     "text": [
      "OK\n"
     ]
    }
   ],
   "source": [
    "if -1.1:\n",
    "    print('OK')\n",
    "else:\n",
    "    print('NG')"
   ]
  },
  {
   "cell_type": "code",
   "execution_count": 16,
   "id": "1221f5f4",
   "metadata": {},
   "outputs": [],
   "source": [
    "def fib(n):\n",
    "    if n < 2:\n",
    "        return n\n",
    "    else:\n",
    "        return fib(n-1) + fib(n-2)"
   ]
  },
  {
   "cell_type": "code",
   "execution_count": 17,
   "id": "6b2976a8",
   "metadata": {},
   "outputs": [
    {
     "data": {
      "text/plain": [
       "55"
      ]
     },
     "execution_count": 17,
     "metadata": {},
     "output_type": "execute_result"
    }
   ],
   "source": [
    "fib(10)"
   ]
  },
  {
   "cell_type": "code",
   "execution_count": 19,
   "id": "fb39e477",
   "metadata": {},
   "outputs": [],
   "source": [
    "def square(x):\n",
    "    return x*x\n",
    "\n",
    "x = -2\n",
    "assert square(x) >= 0"
   ]
  },
  {
   "cell_type": "code",
   "execution_count": 20,
   "id": "02fa4477",
   "metadata": {},
   "outputs": [],
   "source": [
    "def square(x):\n",
    "    return x*x\n",
    "\n",
    "assert square(2) == 4\n",
    "assert square(-2) == 4\n",
    "assert square(0) == 0"
   ]
  },
  {
   "cell_type": "code",
   "execution_count": 21,
   "id": "e5c9a6ca",
   "metadata": {},
   "outputs": [
    {
     "ename": "AssertionError",
     "evalue": "",
     "output_type": "error",
     "traceback": [
      "\u001b[0;31m---------------------------------------------------------------------------\u001b[0m",
      "\u001b[0;31mAssertionError\u001b[0m                            Traceback (most recent call last)",
      "Cell \u001b[0;32mIn[21], line 11\u001b[0m\n\u001b[1;32m      8\u001b[0m         \u001b[38;5;28;01mreturn\u001b[39;00m z\n\u001b[1;32m      9\u001b[0m     \u001b[38;5;28;01mreturn\u001b[39;00m y\n\u001b[0;32m---> 11\u001b[0m \u001b[38;5;28;01massert\u001b[39;00m median(\u001b[38;5;241m3\u001b[39m, \u001b[38;5;241m1\u001b[39m, \u001b[38;5;241m2\u001b[39m) \u001b[38;5;241m==\u001b[39m \u001b[38;5;241m2\u001b[39m\n",
      "\u001b[0;31mAssertionError\u001b[0m: "
     ]
    }
   ],
   "source": [
    "def median(x, y, z):\n",
    "    if x > y:\n",
    "        x = y\n",
    "        y = x\n",
    "    if z < x:\n",
    "        return x\n",
    "    if z < y:\n",
    "        return z\n",
    "    return y\n",
    "\n",
    "assert median(3, 1, 2) == 2\n"
   ]
  },
  {
   "cell_type": "code",
   "execution_count": 22,
   "id": "d3622d91",
   "metadata": {},
   "outputs": [
    {
     "name": "stdout",
     "output_type": "stream",
     "text": [
      "3 1 2\n",
      "1 1 2\n"
     ]
    },
    {
     "ename": "AssertionError",
     "evalue": "",
     "output_type": "error",
     "traceback": [
      "\u001b[0;31m---------------------------------------------------------------------------\u001b[0m",
      "\u001b[0;31mAssertionError\u001b[0m                            Traceback (most recent call last)",
      "Cell \u001b[0;32mIn[22], line 13\u001b[0m\n\u001b[1;32m     10\u001b[0m         \u001b[38;5;28;01mreturn\u001b[39;00m z\n\u001b[1;32m     11\u001b[0m     \u001b[38;5;28;01mreturn\u001b[39;00m y\n\u001b[0;32m---> 13\u001b[0m \u001b[38;5;28;01massert\u001b[39;00m median(\u001b[38;5;241m3\u001b[39m, \u001b[38;5;241m1\u001b[39m, \u001b[38;5;241m2\u001b[39m) \u001b[38;5;241m==\u001b[39m \u001b[38;5;241m2\u001b[39m\n",
      "\u001b[0;31mAssertionError\u001b[0m: "
     ]
    }
   ],
   "source": [
    "def median(x, y, z):\n",
    "    print(x, y, z)\n",
    "    if x > y:\n",
    "        x = y\n",
    "        y = x\n",
    "    print(x, y, z)\n",
    "    if z < x:\n",
    "        return x\n",
    "    if z < y:\n",
    "        return z\n",
    "    return y\n",
    "\n",
    "assert median(3, 1, 2) == 2"
   ]
  },
  {
   "cell_type": "code",
   "execution_count": 23,
   "id": "eab26c1d",
   "metadata": {},
   "outputs": [
    {
     "name": "stdout",
     "output_type": "stream",
     "text": [
      "3 1 2\n",
      "1 3 2\n"
     ]
    }
   ],
   "source": [
    "def median(x, y, z):\n",
    "    print(x, y, z)\n",
    "    if x > y:\n",
    "        w = x\n",
    "        x = y\n",
    "        y = w\n",
    "    print(x, y, z)\n",
    "    if z < x:\n",
    "        return x\n",
    "    if z < y:\n",
    "        return z\n",
    "    return y\n",
    "\n",
    "assert median(3, 1, 2) == 2"
   ]
  },
  {
   "cell_type": "code",
   "execution_count": 24,
   "id": "4b5c069a",
   "metadata": {},
   "outputs": [],
   "source": [
    "def median(x, y, z):\n",
    "    if x > y:\n",
    "        w = x\n",
    "        x = y\n",
    "        y = w\n",
    "    if z < x:\n",
    "        return x\n",
    "    if z < y:\n",
    "        return z\n",
    "    return y\n",
    "\n",
    "assert median(3, 1, 2) == 2"
   ]
  },
  {
   "cell_type": "code",
   "execution_count": 1,
   "id": "5ac54683",
   "metadata": {},
   "outputs": [
    {
     "data": {
      "text/plain": [
       "'HELLO'"
      ]
     },
     "execution_count": 1,
     "metadata": {},
     "output_type": "execute_result"
    }
   ],
   "source": [
    "word1 = \"HEllo\"\n",
    "word2 = \"HELLO\"\n",
    "word1\n",
    "word2"
   ]
  },
  {
   "cell_type": "code",
   "execution_count": 2,
   "id": "f9238da3",
   "metadata": {},
   "outputs": [
    {
     "data": {
      "text/plain": [
       "'HEllo'"
      ]
     },
     "execution_count": 2,
     "metadata": {},
     "output_type": "execute_result"
    }
   ],
   "source": [
    "word1"
   ]
  },
  {
   "cell_type": "code",
   "execution_count": 3,
   "id": "368e0f8b",
   "metadata": {},
   "outputs": [],
   "source": [
    "word3 = str(123)"
   ]
  },
  {
   "cell_type": "code",
   "execution_count": 4,
   "id": "a21c6ab3",
   "metadata": {},
   "outputs": [
    {
     "data": {
      "text/plain": [
       "'123'"
      ]
     },
     "execution_count": 4,
     "metadata": {},
     "output_type": "execute_result"
    }
   ],
   "source": [
    "word3"
   ]
  },
  {
   "cell_type": "code",
   "execution_count": 6,
   "id": "fe8578e0",
   "metadata": {},
   "outputs": [
    {
     "data": {
      "text/plain": [
       "123.4"
      ]
     },
     "execution_count": 6,
     "metadata": {},
     "output_type": "execute_result"
    }
   ],
   "source": [
    "i = float(\"123.4\")\n",
    "i"
   ]
  },
  {
   "cell_type": "code",
   "execution_count": 7,
   "id": "c848de74",
   "metadata": {},
   "outputs": [
    {
     "ename": "TypeError",
     "evalue": "'str' object does not support item assignment",
     "output_type": "error",
     "traceback": [
      "\u001b[0;31m---------------------------------------------------------------------------\u001b[0m",
      "\u001b[0;31mTypeError\u001b[0m                                 Traceback (most recent call last)",
      "Cell \u001b[0;32mIn[7], line 2\u001b[0m\n\u001b[1;32m      1\u001b[0m word1 \u001b[38;5;241m=\u001b[39m \u001b[38;5;124m'\u001b[39m\u001b[38;5;124mhello\u001b[39m\u001b[38;5;124m'\u001b[39m\n\u001b[0;32m----> 2\u001b[0m word1[\u001b[38;5;241m0\u001b[39m] \u001b[38;5;241m=\u001b[39m \u001b[38;5;124m'\u001b[39m\u001b[38;5;124mH\u001b[39m\u001b[38;5;124m'\u001b[39m\n",
      "\u001b[0;31mTypeError\u001b[0m: 'str' object does not support item assignment"
     ]
    }
   ],
   "source": [
    "word1 = 'hello'\n",
    "word1[0] = 'H'"
   ]
  },
  {
   "cell_type": "code",
   "execution_count": 8,
   "id": "350b748c",
   "metadata": {},
   "outputs": [
    {
     "ename": "IndexError",
     "evalue": "string index out of range",
     "output_type": "error",
     "traceback": [
      "\u001b[0;31m---------------------------------------------------------------------------\u001b[0m",
      "\u001b[0;31mIndexError\u001b[0m                                Traceback (most recent call last)",
      "Cell \u001b[0;32mIn[8], line 1\u001b[0m\n\u001b[0;32m----> 1\u001b[0m word1[\u001b[38;5;241m100\u001b[39m]\n",
      "\u001b[0;31mIndexError\u001b[0m: string index out of range"
     ]
    }
   ],
   "source": [
    "word1[100]"
   ]
  },
  {
   "cell_type": "code",
   "execution_count": 9,
   "id": "68360075",
   "metadata": {},
   "outputs": [],
   "source": [
    "digits1 = \"0123456789\""
   ]
  },
  {
   "cell_type": "code",
   "execution_count": 10,
   "id": "9d6d7b4b",
   "metadata": {},
   "outputs": [
    {
     "data": {
      "text/plain": [
       "'123'"
      ]
     },
     "execution_count": 10,
     "metadata": {},
     "output_type": "execute_result"
    }
   ],
   "source": [
    "digits1[1:4]"
   ]
  },
  {
   "cell_type": "code",
   "execution_count": 11,
   "id": "f16bc49b",
   "metadata": {},
   "outputs": [],
   "source": [
    "blank = ''"
   ]
  },
  {
   "cell_type": "code",
   "execution_count": 12,
   "id": "1bc90e98",
   "metadata": {},
   "outputs": [
    {
     "data": {
      "text/plain": [
       "'2980円'"
      ]
     },
     "execution_count": 12,
     "metadata": {},
     "output_type": "execute_result"
    }
   ],
   "source": [
    "price = '2,980円'\n",
    "price.replace(',', '')"
   ]
  },
  {
   "cell_type": "code",
   "execution_count": 13,
   "id": "0ceb1291",
   "metadata": {},
   "outputs": [
    {
     "ename": "SyntaxError",
     "evalue": "invalid character '、' (U+3001) (464396015.py, line 1)",
     "output_type": "error",
     "traceback": [
      "\u001b[0;36m  Cell \u001b[0;32mIn[13], line 1\u001b[0;36m\u001b[0m\n\u001b[0;31m    文字列のスライスにおいて、指定したインデックスの範囲に文字列が存在しない場合、 たとえば、最初に指定したインデックス x に対して、 2番目のインデックスの値に x 以下のインデックスの値を指定するとどうなるでしょうか？ （ただし、2つのインデックスは同じ符号を持つとし、スライスの3番目の値は用いないとします。） このような場合、結果は次のように空文字列となります（エラーが出たり、結果が None にはならないことに注意してください）。\u001b[0m\n\u001b[0m                ^\u001b[0m\n\u001b[0;31mSyntaxError\u001b[0m\u001b[0;31m:\u001b[0m invalid character '、' (U+3001)\n"
     ]
    }
   ],
   "source": [
    "文字列のスライスにおいて、指定したインデックスの範囲に文字列が存在しない場合、 たとえば、最初に指定したインデックス x に対して、 2番目のインデックスの値に x 以下のインデックスの値を指定するとどうなるでしょうか？ （ただし、2つのインデックスは同じ符号を持つとし、スライスの3番目の値は用いないとします。） このような場合、結果は次のように空文字列となります（エラーが出たり、結果が None にはならないことに注意してください）。\n",
    "\n",
    "digits1='0123456789'\n",
    "print('空文字列1 = ', digits1[4:2])\n",
    "print('空文字列2 = ', digits1[-1:-4])\n",
    "print('空文字列3 = ', digits1[3:3])\n",
    "print('空文字列ではない = ', digits1[3:-1])"
   ]
  },
  {
   "cell_type": "code",
   "execution_count": 14,
   "id": "45da2cef",
   "metadata": {},
   "outputs": [
    {
     "data": {
      "text/plain": [
       "True"
      ]
     },
     "execution_count": 14,
     "metadata": {},
     "output_type": "execute_result"
    }
   ],
   "source": [
    "'lo' in 'hello'"
   ]
  },
  {
   "cell_type": "code",
   "execution_count": 15,
   "id": "d059ab6b",
   "metadata": {},
   "outputs": [
    {
     "data": {
      "text/plain": [
       "True"
      ]
     },
     "execution_count": 15,
     "metadata": {},
     "output_type": "execute_result"
    }
   ],
   "source": [
    "word1 =  'hello'\n",
    "substr2 = 'z'\n",
    "substr2 not in word1"
   ]
  },
  {
   "cell_type": "code",
   "execution_count": 16,
   "id": "0c5419da",
   "metadata": {},
   "outputs": [
    {
     "data": {
      "text/plain": [
       "\"This is 'MINE'\""
      ]
     },
     "execution_count": 16,
     "metadata": {},
     "output_type": "execute_result"
    }
   ],
   "source": [
    "escaped1 = 'This is \\'MINE\\''\n",
    "escaped1\n",
    "\n"
   ]
  },
  {
   "cell_type": "code",
   "execution_count": 17,
   "id": "b5b7a0ea",
   "metadata": {},
   "outputs": [
    {
     "data": {
      "text/plain": [
       "\"This is 'MINE'\""
      ]
     },
     "execution_count": 17,
     "metadata": {},
     "output_type": "execute_result"
    }
   ],
   "source": [
    "doublequated = \"This is 'MINE'\"\n",
    "doublequated\n"
   ]
  },
  {
   "cell_type": "code",
   "execution_count": 18,
   "id": "429b08a1",
   "metadata": {},
   "outputs": [
    {
     "name": "stdout",
     "output_type": "stream",
     "text": [
      "時は金なり\n",
      "\"Time is money\"\n",
      "Time is \\\n"
     ]
    }
   ],
   "source": [
    "escaped2 = \"時は金なり\\n\\\"Time is money\\\"\\nTime is \\\\\"\n",
    "print(escaped2)"
   ]
  },
  {
   "cell_type": "code",
   "execution_count": 19,
   "id": "cb315818",
   "metadata": {},
   "outputs": [
    {
     "name": "stdout",
     "output_type": "stream",
     "text": [
      "時は金なり\n",
      "'Time is money'\n",
      "Time is \\\n"
     ]
    }
   ],
   "source": [
    "triple_single_quated = '''時は金なり\n",
    "'Time is money'\n",
    "Time is \\\\'''\n",
    "print(triple_single_quated)"
   ]
  },
  {
   "cell_type": "code",
   "execution_count": 20,
   "id": "c73ce9d0",
   "metadata": {},
   "outputs": [
    {
     "name": "stdout",
     "output_type": "stream",
     "text": [
      "\n",
      "\n",
      "¥n\n",
      "\n",
      "\n"
     ]
    }
   ],
   "source": [
    "print(\"\\n\")\n",
    "print(\"¥n\")\n",
    "print(\"\\n\")"
   ]
  },
  {
   "cell_type": "code",
   "execution_count": 21,
   "id": "d4faf661",
   "metadata": {},
   "outputs": [
    {
     "data": {
      "text/plain": [
       "'hello world'"
      ]
     },
     "execution_count": 21,
     "metadata": {},
     "output_type": "execute_result"
    }
   ],
   "source": [
    "word1 = 'hello'\n",
    "word2 = ' world'\n",
    "text1 = word1 + word2\n",
    "text1"
   ]
  },
  {
   "cell_type": "code",
   "execution_count": 22,
   "id": "a3a66358",
   "metadata": {},
   "outputs": [
    {
     "data": {
      "text/plain": [
       "'hellohellohello'"
      ]
     },
     "execution_count": 22,
     "metadata": {},
     "output_type": "execute_result"
    }
   ],
   "source": [
    "word1 = 'hello'\n",
    "word1 * 3"
   ]
  },
  {
   "cell_type": "code",
   "execution_count": 23,
   "id": "55be371d",
   "metadata": {},
   "outputs": [
    {
     "data": {
      "text/plain": [
       "'he123123o'"
      ]
     },
     "execution_count": 23,
     "metadata": {},
     "output_type": "execute_result"
    }
   ],
   "source": [
    "word1 = 'hello'\n",
    "word1.replace('l', '123')"
   ]
  },
  {
   "cell_type": "code",
   "execution_count": 24,
   "id": "3191e918",
   "metadata": {},
   "outputs": [
    {
     "data": {
      "text/plain": [
       "'hello'"
      ]
     },
     "execution_count": 24,
     "metadata": {},
     "output_type": "execute_result"
    }
   ],
   "source": [
    "word1"
   ]
  },
  {
   "cell_type": "code",
   "execution_count": 25,
   "id": "fe6a5341",
   "metadata": {},
   "outputs": [],
   "source": [
    "def remove_punctuations(str_engsentences):\n",
    "    str1 = str_engsentences.replace('.', '') # 指定の文字を空文字に置換\n",
    "    str1 = str1.replace(',', '')\n",
    "    str1 = str1.replace(':', '')\n",
    "    str1 = str1.replace(';', '')\n",
    "    str1 = str1.replace('!', '')\n",
    "    str1 = str1.replace('?', '')\n",
    "    return str1"
   ]
  },
  {
   "cell_type": "code",
   "execution_count": 26,
   "id": "59440f4c",
   "metadata": {},
   "outputs": [
    {
     "name": "stdout",
     "output_type": "stream",
     "text": [
      "True\n"
     ]
    }
   ],
   "source": [
    "print(remove_punctuations('Quiet, uh, donations, you want me to make a donation to the coast guard youth auxiliary?') == 'Quiet uh donations you want me to make a donation to the coast guard youth auxiliary')\n"
   ]
  },
  {
   "cell_type": "code",
   "execution_count": 27,
   "id": "3e05dc35",
   "metadata": {},
   "outputs": [
    {
     "name": "stdout",
     "output_type": "stream",
     "text": [
      "True\n"
     ]
    }
   ],
   "source": [
    "def atgc_bppair(str_atgc):\n",
    "    str_pair = str_atgc.replace('A', 't')# 指定の文字に置換。ただし全て小文字\n",
    "    str_pair = str_pair.replace('T', 'a')\n",
    "    str_pair = str_pair.replace('G', 'c')\n",
    "    str_pair = str_pair.replace('C', 'g')\n",
    "    str_pair = str_pair.upper() # 置換済みの小文字の列を大文字に変換\n",
    "    return str_pair\n",
    "print(atgc_bppair('AAGCCCCATGGTAA') == 'TTCGGGGTACCATT')"
   ]
  },
  {
   "cell_type": "code",
   "execution_count": 28,
   "id": "c192574d",
   "metadata": {},
   "outputs": [
    {
     "data": {
      "text/plain": [
       "3"
      ]
     },
     "execution_count": 28,
     "metadata": {},
     "output_type": "execute_result"
    }
   ],
   "source": [
    "word1 = 'hello'\n",
    "word1.index('lo')"
   ]
  },
  {
   "cell_type": "code",
   "execution_count": 29,
   "id": "ad8096a3",
   "metadata": {},
   "outputs": [],
   "source": [
    "def swap_colon(str1):\n",
    "    #コロンの位置を取得する # findでもOK\n",
    "    col_index = str1.index(':')\n",
    "    #コロンの位置を基準に前半と後半の部分文字列を取得する\n",
    "    str2, str3 = str1[:col_index], str1[col_index+1:]\n",
    "    #部分文字列の順序を入れ替えて結合する\n",
    "    str4 = str3 + ':' + str2\n",
    "    return str4\n",
    "#swap_colon('hello:world')"
   ]
  },
  {
   "cell_type": "code",
   "execution_count": 30,
   "id": "11c23f49",
   "metadata": {},
   "outputs": [
    {
     "data": {
      "text/plain": [
       "2"
      ]
     },
     "execution_count": 30,
     "metadata": {},
     "output_type": "execute_result"
    }
   ],
   "source": [
    "word1 = 'hello'\n",
    "word1.count('l')\n"
   ]
  },
  {
   "cell_type": "code",
   "execution_count": 31,
   "id": "21ae950d",
   "metadata": {},
   "outputs": [
    {
     "name": "stdout",
     "output_type": "stream",
     "text": [
      "True\n"
     ]
    }
   ],
   "source": [
    "def atgc_count(str_atgc, str_bpname):\n",
    "    return str_atgc.count(str_bpname)\n",
    "print(atgc_count('AAGCCCCATGGTAA', 'A') == 5)"
   ]
  },
  {
   "cell_type": "code",
   "execution_count": 32,
   "id": "d81021ef",
   "metadata": {},
   "outputs": [
    {
     "data": {
      "text/plain": [
       "'dna'"
      ]
     },
     "execution_count": 32,
     "metadata": {},
     "output_type": "execute_result"
    }
   ],
   "source": [
    "upper_dna = 'DNA'\n",
    "upper_dna.lower() # 全ての文字を小文字にする"
   ]
  },
  {
   "cell_type": "code",
   "execution_count": 33,
   "id": "022753c7",
   "metadata": {},
   "outputs": [
    {
     "data": {
      "text/plain": [
       "'Hello world!'"
      ]
     },
     "execution_count": 33,
     "metadata": {},
     "output_type": "execute_result"
    }
   ],
   "source": [
    "lower_text = 'hello world!'\n",
    "lower_text.capitalize() # 先頭文字を大文字にする"
   ]
  },
  {
   "cell_type": "code",
   "execution_count": 34,
   "id": "7d58708c",
   "metadata": {},
   "outputs": [
    {
     "data": {
      "text/plain": [
       "'HELLO WORLD!'"
      ]
     },
     "execution_count": 34,
     "metadata": {},
     "output_type": "execute_result"
    }
   ],
   "source": [
    "lower_text.upper() #全ての文字を大文字にする"
   ]
  },
  {
   "cell_type": "code",
   "execution_count": 35,
   "id": "97a913c0",
   "metadata": {},
   "outputs": [
    {
     "data": {
      "text/plain": [
       "'abc'"
      ]
     },
     "execution_count": 35,
     "metadata": {},
     "output_type": "execute_result"
    }
   ],
   "source": [
    "'  abc\\n'.strip()"
   ]
  },
  {
   "cell_type": "code",
   "execution_count": 36,
   "id": "546563c2",
   "metadata": {},
   "outputs": [
    {
     "data": {
      "text/plain": [
       "'a b c'"
      ]
     },
     "execution_count": 36,
     "metadata": {},
     "output_type": "execute_result"
    }
   ],
   "source": [
    "'　a b c　\\n'.strip()"
   ]
  },
  {
   "cell_type": "code",
   "execution_count": 37,
   "id": "bbf17065",
   "metadata": {},
   "outputs": [
    {
     "data": {
      "text/plain": [
       "'abc\\n'"
      ]
     },
     "execution_count": 37,
     "metadata": {},
     "output_type": "execute_result"
    }
   ],
   "source": [
    "'  abc\\n'.lstrip()"
   ]
  },
  {
   "cell_type": "code",
   "execution_count": 38,
   "id": "f3258686",
   "metadata": {},
   "outputs": [
    {
     "data": {
      "text/plain": [
       "'  abc'"
      ]
     },
     "execution_count": 38,
     "metadata": {},
     "output_type": "execute_result"
    }
   ],
   "source": [
    "'  abc\\n'.rstrip()"
   ]
  },
  {
   "cell_type": "code",
   "execution_count": 39,
   "id": "93e69cd7",
   "metadata": {},
   "outputs": [
    {
     "name": "stdout",
     "output_type": "stream",
     "text": [
      "True\n",
      "False\n"
     ]
    }
   ],
   "source": [
    "print('abc' == 'abc')\n",
    "print('ab' == 'abc')"
   ]
  },
  {
   "cell_type": "code",
   "execution_count": 40,
   "id": "96ba5677",
   "metadata": {},
   "outputs": [
    {
     "name": "stdout",
     "output_type": "stream",
     "text": [
      "False\n",
      "True\n"
     ]
    }
   ],
   "source": [
    "print('abc' != 'abc')\n",
    "print('ab' != 'abc')"
   ]
  },
  {
   "cell_type": "code",
   "execution_count": 41,
   "id": "c0d8954e",
   "metadata": {},
   "outputs": [
    {
     "name": "stdout",
     "output_type": "stream",
     "text": [
      "True\n",
      "False\n",
      "True\n",
      "True\n"
     ]
    }
   ],
   "source": [
    "print('abc' <= 'abc')\n",
    "print('abc' < 'abc')\n",
    "print('abc' < 'abd')\n",
    "print('ab' < 'abc')"
   ]
  },
  {
   "cell_type": "code",
   "execution_count": 42,
   "id": "09f3f68f",
   "metadata": {},
   "outputs": [
    {
     "name": "stdout",
     "output_type": "stream",
     "text": [
      "True\n",
      "True\n"
     ]
    }
   ],
   "source": [
    "def check_lower(str_engsentences):\n",
    "    if str_engsentences == str_engsentences.lower():#元の文字列と小文字に変換した文字列を比較する\n",
    "        return True\n",
    "    return False\n",
    "print(check_lower('down down down') == True)\n",
    "print(check_lower('There were doors all round the hall, but they were all locked') == False)"
   ]
  },
  {
   "cell_type": "code",
   "execution_count": 44,
   "id": "0d0fef76",
   "metadata": {},
   "outputs": [
    {
     "name": "stdout",
     "output_type": "stream",
     "text": [
      "True\n"
     ]
    }
   ],
   "source": [
    "def remove_clause(str_engsentences):\n",
    "    int_index = str_engsentences.find(',')\n",
    "    str1 = str_engsentences[int_index+2:]\n",
    "    return str1.capitalize()\n",
    "print(remove_clause(\"It's being seen, but you aren't observing.\") == \"But you aren't observing.\")"
   ]
  },
  {
   "cell_type": "code",
   "execution_count": null,
   "id": "5243ba1c",
   "metadata": {},
   "outputs": [],
   "source": []
  }
 ],
 "metadata": {
  "kernelspec": {
   "display_name": "Python 3 (ipykernel)",
   "language": "python",
   "name": "python3"
  },
  "language_info": {
   "codemirror_mode": {
    "name": "ipython",
    "version": 3
   },
   "file_extension": ".py",
   "mimetype": "text/x-python",
   "name": "python",
   "nbconvert_exporter": "python",
   "pygments_lexer": "ipython3",
   "version": "3.11.7"
  }
 },
 "nbformat": 4,
 "nbformat_minor": 5
}
